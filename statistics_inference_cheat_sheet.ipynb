{
 "cells": [
  {
   "cell_type": "markdown",
   "metadata": {
    "editable": true,
    "slideshow": {
     "slide_type": ""
    },
    "tags": []
   },
   "source": [
    "# Statistics: Inference"
   ]
  },
  {
   "cell_type": "markdown",
   "metadata": {},
   "source": [
    "## Central Limit Theorem (CLT)\n",
    "\n",
    " The sampling mean distribtuion is normal regardless the unknown Population distribution (shape)\n",
    " \n",
    " TODOs:\n",
    " * Big picture\n",
    " 1. image Population -> takes various samples of size n -> compute $\\bar{X}$ \n",
    " 1. -> sampling distribution mean with 3 sampling mean points \n",
    " \n",
    " * Show the impact of sample size n\n",
    "     * plot of the  distribtuion \n",
    "\n",
    "* TODO:\n",
    "1. move CLT form the prob cheat sheet to this cheat sheet\n",
    "1. move also law of large numbers\n",
    "1. review any notebook statistcs notebook"
   ]
  },
  {
   "cell_type": "markdown",
   "metadata": {},
   "source": [
    "## hypthesis test: t-test\n",
    "\n",
    "* explain the test\n",
    "    * image with H0 and Ha (It is easy for me to remember base on good and bad curves). H0 on top and Ha in the bottom aligned x axis\n",
    "\n",
    "* explain the power of test and its relation with FN $\\beta$\n",
    "* explain p-value and relation to FP $\\alpha$\n",
    "* Dismbiguation:\n",
    "    * H0 and Ha are sampling distribution\n",
    "\n",
    "* show examples of:\n",
    "    * fixed sample size and effect size test, change sampling variance and show big and small power (see chatgpt chat)\n",
    "* fixed effect size, same sampling variance different power\n",
    "* shows the impact of small effect sizes as opposed of big effect size (for big effect sizes you do not need hypothesis tests) \n",
    "\n",
    "* show the formulas\n",
    "    * z = ?\n",
    "    * t = ? and its relation to use the sampling variance instead of population variance (t-student)\n",
    "    * important only for small sample sizes\n",
    "    \n"
   ]
  },
  {
   "cell_type": "markdown",
   "metadata": {},
   "source": []
  },
  {
   "cell_type": "markdown",
   "metadata": {},
   "source": [
    "## hypothesis test: truthworth"
   ]
  },
  {
   "cell_type": "markdown",
   "metadata": {},
   "source": [
    "* see: /archived/facebook/2022-01-03-prep_facebook_1st_round_prod_case_tech_analysys.ipynb\n",
    "* add truth worth controlled experiment weith focus in the effect size\n",
    "* add the images I alread have"
   ]
  },
  {
   "cell_type": "code",
   "execution_count": null,
   "metadata": {},
   "outputs": [],
   "source": []
  }
 ],
 "metadata": {
  "kernelspec": {
   "display_name": "Python 3 (ipykernel)",
   "language": "python",
   "name": "python3"
  },
  "language_info": {
   "codemirror_mode": {
    "name": "ipython",
    "version": 3
   },
   "file_extension": ".py",
   "mimetype": "text/x-python",
   "name": "python",
   "nbconvert_exporter": "python",
   "pygments_lexer": "ipython3",
   "version": "3.13.2"
  }
 },
 "nbformat": 4,
 "nbformat_minor": 4
}

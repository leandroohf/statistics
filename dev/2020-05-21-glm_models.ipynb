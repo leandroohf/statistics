{
 "cells": [
  {
   "cell_type": "markdown",
   "metadata": {},
   "source": [
    "# Generalized Linear Models \n",
    "\n",
    "refs:\n",
    "\n",
    "* https://www.statsmodels.org/stable/glm.html\n",
    "* https://stats.stackexchange.com/questions/29271/interpreting-residual-diagnostic-plots-for-glm-models\n",
    "\n",
    "Generalized models can be used in situation where we do not have the linearuty assumption adn can be used to model different types of response variable. Multiple Linear Regerssion is one type of models tha you can go with GLM. See the table\n",
    "\n",
    "1. Multiple Linear Reression: Y is numeric values\n",
    "1. Logistic Regression: Y is proportion or probabilities\n",
    "1. Poisson Regression: Y is countable\n",
    "\n",
    "\n",
    "| model     | distribution  family | response variable | example                               | link function    |\n",
    "|-----------|----------------------|-------------------|---------------------------------------|------------------|\n",
    "|           | Poisson              | countable         |                                       | log              |\n",
    "|           | Binomial             | probabilities     | seed will survive or not after 1 year | logits n probits |\n",
    "|           | Normal               | numeric           | crop yields                           | identity         |\n",
    "| LogLinear | Poisson              |                   |                                       |                  |\n",
    "\n",
    "\n",
    "\n"
   ]
  },
  {
   "cell_type": "markdown",
   "metadata": {
    "heading_collapsed": true
   },
   "source": [
    "## GLM assumptions, Pros and Cons\n"
   ]
  },
  {
   "cell_type": "markdown",
   "metadata": {
    "hidden": true
   },
   "source": [
    "\n",
    "* Assumptions \n",
    "    1. Ys are idependent and identical distributes\n",
    "    1. Errors need to be independent but NOT normally distributed.\n",
    "\n",
    "* Pros\n",
    "    1. Does not assume linear relationship between Y and the coefficients. We do not need to transform the response Y to have a normal distribution\n",
    "    1. **No need of the homogeneity of variance**\n",
    "    1. Erros does not need to be normally distributed\n",
    "    \n",
    "* Crons\n",
    "\n",
    "    1. Tends to require more data for good estimarions since it utilizes **MLE** instead of **OLS**"
   ]
  },
  {
   "cell_type": "markdown",
   "metadata": {
    "heading_collapsed": true
   },
   "source": [
    "## GLM components\n"
   ]
  },
  {
   "cell_type": "markdown",
   "metadata": {
    "hidden": true
   },
   "source": [
    "\n",
    "\n",
    "* Random: \n",
    "    \n",
    "    * Define the response variable. This is defined by selecting probaility distribution function\n",
    "    \n",
    "* Systematic: The predictors to be included: $X_1, X_2, X_1 X_2,X_3^2$ and etc\n",
    "    * linear predictor: $X \\beta$\n",
    "\n",
    "* Link: Connect the ramdom and systematic components. It is the function that linearize the model and compute the expected of the response variable Y.\n",
    "\n",
    "   \n",
    "   \n",
    "For example: \n",
    "\n",
    "Linear Regression\n",
    "\n",
    "* Random: \n",
    "    * $ Y \\sim N(\\mu, \\sigma^2) $ \n",
    "    \n",
    "* Systematic: Xs\n",
    "\n",
    "* Link: \n",
    "    * $ E(Y) = \\mu $\n",
    "    * $g(E(Y)) = \\mu \\equiv \\beta X $\n",
    "\n",
    "Logistic Regression\n",
    "\n",
    "* Random: \n",
    "    * $ Y \\sim B(n,p) $\n",
    "    \n",
    "* Systematic: Xs\n",
    "\n",
    "* Link: \n",
    "    * $ E(Y) = \\mu $\n",
    "    * $g(E(Y)) =  \\beta X \\equiv log (\\frac{\\mu}{1 - \\mu}) $\n"
   ]
  },
  {
   "cell_type": "markdown",
   "metadata": {
    "heading_collapsed": true
   },
   "source": [
    "## Linear Regression"
   ]
  },
  {
   "cell_type": "markdown",
   "metadata": {
    "hidden": true
   },
   "source": [
    "For modelling numeric outcome not boundary \n",
    "\n",
    "Ex:\n",
    "1. house price\n",
    "2. freight market\n",
    "3. **Crop yield and rainfall**\n",
    "\n",
    "The linear \n",
    "* $E\\{ Y|X\\} \\sim N(\\mu(X), \\sigma)$\n",
    "\n",
    "\n",
    "\n",
    "<img src=\"../images/OLSassumptions-1.png\" height=\"400\" width=\"400\">\n",
    "\n"
   ]
  },
  {
   "cell_type": "markdown",
   "metadata": {
    "hidden": true
   },
   "source": [
    "### Assumption\n",
    "\n",
    "Models based on OLS. Rememeber The acronym **LINE**\n",
    "\n",
    "* L: linear relatioship between the coefficient s and the response variable\n",
    "* I:  the errors are independent\n",
    "* N: the responses are normally distributed at each level of X,\n",
    "* E: the variance is constant\n"
   ]
  },
  {
   "cell_type": "markdown",
   "metadata": {
    "hidden": true
   },
   "source": [
    "### Diagnostics\n",
    "\n",
    "* Plot residuals: Look for patterns \n",
    "\n",
    "    1. Residuals vs Y\n",
    "    1. Residuals vs Xs (included or not included in the model)\n",
    "\n",
    "\n",
    "<img src=\"../images/resid-plots.gif\" height=\"400\" width=\"400\">\n",
    "\n",
    "\n",
    "* Check outliers\n",
    "\n",
    "    1. leverage plots\n",
    "    1. cook distances\n"
   ]
  },
  {
   "cell_type": "markdown",
   "metadata": {
    "heading_collapsed": true
   },
   "source": [
    "## Logistic regression"
   ]
  },
  {
   "cell_type": "markdown",
   "metadata": {
    "hidden": true
   },
   "source": [
    "For modelling binarry outcomes\n",
    "\n",
    "Ex:\n",
    "1. email sis span or not\n",
    "2. treatment is effective\n"
   ]
  },
  {
   "cell_type": "markdown",
   "metadata": {
    "hidden": true
   },
   "source": [
    "### Binomial distribution\n",
    "\n",
    "https://en.wikipedia.org/wiki/Binomial_distribution"
   ]
  },
  {
   "cell_type": "markdown",
   "metadata": {
    "hidden": true
   },
   "source": [
    "\n",
    "\n",
    "* PDF: $Y \\sim B(n,p)$\n",
    "    * parameters\n",
    "        * $n$ is the number of trials\n",
    "        * $p$ is the probability of succes\n",
    "    * $k$ is the number of success\n",
    "\n",
    "$\n",
    "f(k,n;p) = Pr(X = \\text{k success in n trials}) = \\frac{n!}{k!(n-k)!} p^k (1-p)^{n-k}\n",
    "$\n",
    "\n",
    "\n",
    "* Mean: $np$\n",
    "* STD: $npq$ where $q = 1-p$\n",
    "    * $p = 1/2$ is the maximum\n",
    "    * STD depends of the mean and the number of trials $n$\n",
    "\n",
    "<img src=\"../images/Binomial_distribution_pdf.png\" height=\"400\" width=\"400\">"
   ]
  },
  {
   "cell_type": "markdown",
   "metadata": {
    "hidden": true
   },
   "source": [
    "### Assumptions\n"
   ]
  },
  {
   "cell_type": "markdown",
   "metadata": {
    "hidden": true
   },
   "source": [
    "1. The response variable is binary\n",
    "\n",
    "1. There should be no outliers in the data. \n",
    "\n",
    "1. There should be no high intercorrelations (multicollinearity)\n",
    "    among the predictors.  This can be assessed by a correlation\n",
    "    matrix among the predictors.\n",
    "1. Independence The observations must be independent of one another\n",
    "\n",
    "\n",
    "1. linearity of lof of the odds ratio: $log(\\frac{p}{1-p})$ \n",
    "\n",
    "1. By definition, the variance of a binomial random variable is np(1−p), so that variability is highest when p=.5\n",
    "\n",
    "\n",
    "**If the violation with the variance we can use quasibinomial family. Similar to poisson regression**\n",
    "\n",
    "```r\n",
    "glm(formula = cbind(YesVotes, NumVotes - YesVotes) ~ distance + \n",
    "    pctBlack + distance:pctBlack, family = quasibinomial, data = rrHale.df)\n",
    "\n",
    "Coefficients:\n",
    "                   Estimate Std. Error t value Pr(>|t|)\n",
    "(Intercept)        7.550902   4.585464   1.647    0.144\n",
    "distance          -0.614005   0.412171  -1.490    0.180\n",
    "pctBlack          -0.064731   0.065885  -0.982    0.359\n",
    "distance:pctBlack  0.005367   0.006453   0.832    0.433\n",
    "\n",
    "(Dispersion parameter for quasibinomial family taken to be 51.5967)\n",
    "\n",
    "    Null deviance: 988.45  on 10  degrees of freedom\n",
    "Residual deviance: 274.23  on  7  degrees of freedom\n",
    "\n",
    "```\n",
    "\n",
    "  * In the absence of overdispersion, we expect the dispersion parameter estimate to be 1.0. So if you use quaispoisson and the dispersion parameter is close to 1 you should use poisson, if bigger than 1 you should use quaispoisson or negative binomial disribution \n"
   ]
  },
  {
   "cell_type": "markdown",
   "metadata": {
    "hidden": true
   },
   "source": [
    "### Diagnostics "
   ]
  },
  {
   "cell_type": "markdown",
   "metadata": {
    "hidden": true
   },
   "source": [
    "* Check p-values\n",
    "* Check performance test database\n",
    "* Plot residuals \n",
    "    * Residuals vs Y\n",
    "    * Residuals vs Xs\n",
    "    \n",
    "* Influence leverage plot"
   ]
  },
  {
   "cell_type": "markdown",
   "metadata": {
    "hidden": true
   },
   "source": [
    "### Fit model"
   ]
  },
  {
   "cell_type": "markdown",
   "metadata": {
    "hidden": true
   },
   "source": [
    "```r\n",
    "mylogit <- glm(y ~ x1 + x2, data = sim, family = \"binomial\")\n",
    "summary(mylogit)\n",
    "mylogit$coefficients\n",
    "\n",
    "```"
   ]
  },
  {
   "cell_type": "markdown",
   "metadata": {
    "heading_collapsed": true
   },
   "source": [
    "## Poisson (Countable data) \n",
    "\n",
    "ref: \n",
    "* https://bookdown.org/roback/bookdown-bysh/ch-poissonreg.html\n"
   ]
  },
  {
   "cell_type": "markdown",
   "metadata": {
    "hidden": true
   },
   "source": [
    "For modelling rate or numbers of events per time or space/location\n",
    "\n",
    "Ex:\n",
    "1. number of emails received per day\n",
    "2. number of people sharing a house\n",
    "\n",
    "\n",
    "Similar to Linera regression in Poisson regression we assume that the rsponse assume a poisson distribution for eache level of X\n",
    "\n",
    "* $E\\{ Y|X\\} \\sim Pois(\\lambda)$\n",
    "\n",
    "\n",
    "> Left linear Regression and right **Poisson regression**. **No need for constant variance** \n",
    "\n",
    "<img src=\"../images/OLSpois-1.png\" height=\"400\" width=\"400\">\n"
   ]
  },
  {
   "cell_type": "markdown",
   "metadata": {
    "heading_collapsed": true,
    "hidden": true
   },
   "source": [
    "### Poisson distribution\n",
    "\n",
    "https://en.wikipedia.org/wiki/Poisson_distribution"
   ]
  },
  {
   "cell_type": "markdown",
   "metadata": {
    "hidden": true
   },
   "source": [
    "\n",
    "Expresses the probability of a given number of events occurring in a fixed interval of time or space if these events occur with a known **constant mean rate** and **independently of the time since the last event**.\n",
    "\n",
    "* PDF: $E\\{Y|Xs\\} \\sim Pois(\\lambda)$ \n",
    "    * parameters\n",
    "        * $\\lambda$ is the **rate**\n",
    "    * $k$ is the number of occurrence\n",
    "\n",
    "$\n",
    "f(k;\\lambda) = Pr(X = \\text{k events in the inteval}) \\equiv \\frac{\\lambda^k e^{-\\lambda}}{k!}\n",
    "$\n",
    "\n",
    "\n",
    "* Mean: $\\lambda$\n",
    "* STD: $\\sigma = \\sqrt {\\lambda}$\n",
    "\n",
    "> If I am meassuring the number of emails received per day and take estimation and this mean rate is 10. Then the pdf will have a peak on 10 but values slight smaller or bigger are lieklly to happen as well. See the graph bellow:\n",
    "\n",
    "<img src=\"../images/poisson_pmf.svg.png\" height=\"400\" width=\"400\">"
   ]
  },
  {
   "cell_type": "markdown",
   "metadata": {
    "hidden": true
   },
   "source": [
    "### Assumptions\n"
   ]
  },
  {
   "cell_type": "markdown",
   "metadata": {
    "hidden": true
   },
   "source": [
    "\n",
    "1. The response variable is a **count per unit of time or space**, described by a Poisson distribution\n",
    "\n",
    "1. **Independence** The observations must be independent of one another\n",
    "\n",
    "1. **Linearity** of the log of the mean rate, log(λ), must be a linear function of x\n",
    "\n",
    "1. **Mean=Variance** By definition, the mean of a Poisson random variable must be equal to its variance\n",
    "\n",
    "\n",
    "What todo if the **variance** is much bigger than the **mean**? **over-dispersion**\n",
    "\n",
    "* Use **quaispoisson** family that the variance is a parmeters of the distribution\n",
    "\n",
    "```r\n",
    "glm(formula = cases ~ city + age.range, family = quasipoisson(link = \"log\"), \n",
    "    data = nonmel, offset = log(n))\n",
    "\n",
    "Deviance Residuals: \n",
    "    Min       1Q   Median       3Q      Max  \n",
    "-1.5060  -0.4857   0.0164   0.3693   1.2476  \n",
    "\n",
    "Coefficients:\n",
    "               Estimate Std. Error t value      Pr(>|t|)    \n",
    "(Intercept)     -5.4834     0.1117  -49.08 0.00000000038 ***\n",
    "cityDallas       0.8039     0.0563   14.29 0.00000195327 ***\n",
    "age.range15_24  -6.1742     0.4932  -12.52 0.00000478575 ***\n",
    "age.range25_34  -3.5440     0.1805  -19.64 0.00000022172 ***\n",
    "age.range35_44  -2.3268     0.1373  -16.94 0.00000061180 ***\n",
    "age.range45_54  -1.5790     0.1227  -12.87 0.00000396332 ***\n",
    "age.range55_64  -1.0869     0.1195   -9.10 0.00003983884 ***\n",
    "age.range65_74  -0.5288     0.1170   -4.52        0.0027 ** \n",
    "age.range75_84  -0.1157     0.1195   -0.97        0.3656    \n",
    "---\n",
    "Signif. codes:  0 '***' 0.001 '**' 0.01 '*' 0.05 '.' 0.1 ' ' 1\n",
    "\n",
    "(Dispersion parameter for quasipoisson family taken to be 1.161)\n",
    "\n",
    "    Null deviance: 2789.6810  on 15  degrees of freedom\n",
    "Residual deviance:    8.2585  on  7  degrees of freedom\n",
    "AIC: NA\n",
    "\n",
    "Number of Fisher Scoring iterations: 4\n",
    "```\n",
    "\n",
    "* How to detect over-dispersion?\n",
    "\n",
    "the glm with quaispoisson returns a parameter in the report called dispersion parmeter\n",
    "\n",
    "    * In the absence of overdispersion, we expect the dispersion parameter estimate to be 1.0. So if you use quaispoisson and the dispersion parameter is close to 1 you should use poisson, if bigger than 1 you should use quaispoisson or negative binomial disribution \n",
    "\n",
    "\n",
    "* Use negative binomial distribution\n",
    "\n",
    "\n"
   ]
  },
  {
   "cell_type": "markdown",
   "metadata": {
    "hidden": true
   },
   "source": [
    "### Diagnostics "
   ]
  },
  {
   "cell_type": "markdown",
   "metadata": {
    "hidden": true
   },
   "source": [
    "* Check p-values\n",
    "* Check performance test database\n",
    "* Plot residuals \n",
    "    * Residuals vs Y\n",
    "    * Residuals vs Xs\n",
    "    \n",
    "* Influence leverage plot"
   ]
  },
  {
   "cell_type": "markdown",
   "metadata": {
    "hidden": true
   },
   "source": [
    "### Fit model\n"
   ]
  },
  {
   "cell_type": "markdown",
   "metadata": {
    "hidden": true
   },
   "source": [
    "\n",
    "```r\n",
    "glm(formula = total ~ age, family = poisson, data = fHH1)\n",
    "\n",
    "Coefficients:\n",
    "              Estimate Std. Error z value Pr(>|z|)    \n",
    "(Intercept)  1.5499422  0.0502754  30.829  < 2e-16 ***\n",
    "age         -0.0047059  0.0009363  -5.026 5.01e-07 ***\n",
    "---\n",
    "(Dispersion parameter for poisson family taken to be 1)\n",
    "\n",
    "    Null deviance: 2362.5  on 1499  degrees of freedom\n",
    "Residual deviance: 2337.1  on 1498  degrees of freedom\n",
    "AIC: 6714\n",
    "\n",
    "```\n"
   ]
  },
  {
   "cell_type": "code",
   "execution_count": null,
   "metadata": {
    "hidden": true
   },
   "outputs": [],
   "source": []
  }
 ],
 "metadata": {
  "kernelspec": {
   "display_name": "Python 3",
   "language": "python",
   "name": "python3"
  },
  "language_info": {
   "codemirror_mode": {
    "name": "ipython",
    "version": 3
   },
   "file_extension": ".py",
   "mimetype": "text/x-python",
   "name": "python",
   "nbconvert_exporter": "python",
   "pygments_lexer": "ipython3",
   "version": "3.7.7"
  }
 },
 "nbformat": 4,
 "nbformat_minor": 4
}

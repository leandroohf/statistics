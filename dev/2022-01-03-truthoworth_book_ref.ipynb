{
 "cells": [
  {
   "metadata": {},
   "cell_type": "markdown",
   "source": "# Facebook: DS product analytic\n\n**TODOs**:\n\n1. Summary of everything in this notebook. It is too big\n\n    1. Summary of framework you liked: Close to Celena Tyler. It i ssimple and easy to rememeber\n        1. Understand the problem \n            * Understand the Context\n                * Is it a big tehc dev a new product that should be integrated in another product or it is  anew product\n                * It is portable or non portable. Design a product around movies for professional directors (Netflix) are different of dev product around movies with social aspect like facebook mission\n                    \n            * Know the company: \n                * Companie shas different strategy advance and goals and misisons\n                \n            * Ask about constraints or limitations\n                * The videos needs to be short or easy to be created\n                \n        1. User Target (aways ask if the interviewer wants to prioritize one of them)\n            1. Brasinstorm\n            1. Prioritze and **talk about trade-offs**\n            1. Ask and aclarify question or **justify which one you wanna pick first**\n        1. Pain points and needs of the target user \n            1. Brasinstorm\n            1. Prioritze and **talk about trade-offs**\n            1. Ask and aclarify question or **justify which one you wanna pick first**\n        1. Solutions\n            * Brainstorm\n            * Prioritize and **talk about matrix impact vs effort** pick always simplicity and low hanging fruits,\n            * **Define success** Should be close to North Star or mission of the company  \n                1. Action we want to measure\n                1. The unit of measuremet\n                1. Statistics: mean,median, total, count, std\n        1. Review summary\n            \n    1. #A: It is Not part of the framework but write down your notes as pullets points and framework to follow him and do not get  lost on your argumenttaion\n\nIt is better to follow official facebook guide:  \n\n1. PDF with all topics and explain how you will be assed:  (**main reference**)\n    * https://scontent.fsod2-1.fna.fbcdn.net/v/t39.2365-6/234115140_212170097589074_9194286121935830419_n.pdf?_nc_cat=105&ccb=1-5&_nc_sid=ad8a9d&_nc_ohc=V42zI53xFgYAX-hMTwD&_nc_ht=scontent.fsod2-1.fna&oh=00_AT_OBwmiKCKfdIL8cdt3s61N-RV5w3qVc3ru4c-olZsXbQ&oe=61D8C665\n\n1. https://www.facebookcareers.com/DS-S-prep-initial/\n1. https://vimeo.com/383174154/399f5104ab\n1. emailwith pre material: https://mail.google.com/mail/u/0/#inbox/FMfcgzGlkjdkTXtVpMkCgTkRtSRZtRpq\n\n\nOffial reference:\n1. Cracking the PM interview: https://books.apple.com/us/book/cracking-the-pm-interview/id852714078\n1. Trustworthy Online Controlled Experiments: https://www.amazon.com/Trustworthy-Online-Controlled-Experiments-Practical-ebook/dp/B0845Y3DJV \n\n\nSupport material:\n\n1. https://medium.com/@deepen.h.panchal/cracking-the-facebook-data-scientist-interview-415508777ba6\n\n1. https://towardsdatascience.com/the-facebook-data-scientist-interview-38556739e872\n1. https://medium.com/datainterview/are-you-preparing-for-the-facebook-data-scientist-interview-30aef65ace0c how to prep"
  },
  {
   "metadata": {},
   "cell_type": "markdown",
   "source": "## About Facebook\n\n* Mission: connect people\n* news: https://about.fb.com/news/\n* financials: https://investor.fb.com/financials/ \n* facebook approach of data anlitics: Alex Shutz (PhD CERN Physics)\n    * https://www.facebookcareers.com/life/the-facebook-approach-to-data-analytics/  (TODO: read this) \n    * https://www.youtube.com/watch?v=URiIsrdplbo\n* **facebook north star metrics: DAU** \n    * ref: https://towardsdatascience.com/data-driven-growth-with-python-part-1-know-your-metrics-812781e66a5b\n"
  },
  {
   "metadata": {},
   "cell_type": "markdown",
   "source": "## Logistics of the process\n\n* 1st interview \n    1. Product Case Study\n    1. Technical Analysis"
  },
  {
   "metadata": {},
   "cell_type": "markdown",
   "source": "## Numbers to remember  (not important rigth now)"
  },
  {
   "metadata": {},
   "cell_type": "markdown",
   "source": "* Backpocket information:\n* Population of the US is 300 million.\n* Life expectancy is 80 years.\n* Number of people per household = 2.5\n* Android market: ~75%  **#A <===**\n* iOS market: ~23% **#A <===**\n* Facebook target audiences: General Millennial Facts and their spending habits. TODO\n    * https://www.lexingtonlaw.com/blog/credit-cards/millennial-spending-habits.html\n\nUSeful for estimations questions like:\n\n1. How much shampoo does each person use per wash?\n"
  },
  {
   "metadata": {},
   "cell_type": "markdown",
   "source": "## Review Facebook material (STARTED)"
  },
  {
   "metadata": {},
   "cell_type": "markdown",
   "source": "45 minutes interview with DS \nAssed on frsaming (synthesis, how to abreak and analyse the problem) to execution\n* Product Case Study\n\n    Your Interviewer will be looking for:\n1. Framing: Your approach to. breakdown a coplex and open end question \n    * It is vague and needs to remove ambiquity\n    * **good frammiming and structure results in more strong answer and compreehensive answer**\n1. Operationalization,\n    1. use data to solve the problem. can you tranlate the problem into an analyses?\n1. Hypothesis Drivenness.  <== Mckinsey\n    * can you identify reasonable hypothesis and apply basic logic to cinfirm or reject the hypothesis? \n1. Analytical Understanding \n    * are u apply strong critical thinking skills\n    * explain the pros and crons for each approach = data + methodology? \n    * can you spot possible sources of problems like bias or other issues like missing values , sample size that can lead to incorrect answers?\n    \n1. Communication: Are you clear? can you be persuasive?\n   \n1. Initiative and Leadership? Can you takr the initiative? But how they are assessing this?\n\n\nEx:\n\n1. How would you help your team decide whether to build a given feature or\nproduct?\n\n1. You notice one product has much lower retention than another, how would you\nfigure out what is causing the gap? <<== this one is cool"
  },
  {
   "metadata": {},
   "cell_type": "markdown",
   "source": "### The Applied Data (1:57)  (DONE)\n\nhttps://vimeo.com/383174154/399f5104ab"
  },
  {
   "metadata": {},
   "cell_type": "markdown",
   "source": "1. How would investigate with high school is real? Based in a survey applied to teenagers.\n    * desambiguation: . What do you mean is real? \n        * clarify question: What do you meann nby this data is real? do the school exist or the studen atend the school?\n        * he decide to go with the teenager actuall attend the high school. This also means thsat the High school exist\n    * (03:48) He discussed he can go more precie approach or more recall that would be useful to determine marketing size. Since the case is for a develop a new product he gonna go for my precise approach.\n        * I think he set threshold high to make sure the sutdent attent the High school. minimize the FP. He preffers to miss somne high school and student than consider fp student and high school\n     * Broke the problem into 2 pices \n         1. The High school is real\n         1. The student went to that High school"
  },
  {
   "metadata": {},
   "cell_type": "markdown",
   "source": "Tracking the first part: The High school is real\n    \n* Propose histograms: #HS vs #students\n* HS with small amount of students should not be real\n* There a few HS with a lot of #students (big public svhools in large cities). This is. along tail distribution (04:50)\n* 2 threslhod x_1 and x_2: between x_1 and x_2 are the real high school\n    * x_1 if the hs has few student probably is fake\n    * x_2 if the HS has a lot of student probably created by a bot and is fake as well\n    \n<img src=\"../../images/prep_video_high_school.png\" style=\"float:left\" width=\"300\" align=\"right\">"
  },
  {
   "metadata": {},
   "cell_type": "markdown",
   "source": "* Follow up question: What would you guess what x_1 and x_2 values would be?\n    * He decide to go with 5th percentile for x_1. \"Base in my intuition\" this should be around 100 students. For x_2, he guessed 95th or 99th percentile. \n    * facebook 300M users acroos the globle (06:20)\n    * his intuition that x_2 should be around  10k students in some countries.\n    * suggest to do the analysis by country, because the distribution should vary a lot across countries\n\nFor the second part. DO the student actually went to this high school. (07:00)\n\n* Follow up question: How would you do it with high school with the same name. St Georges might a high school in new yoir , bostosn and many other cities. \n    * he suggested to group by high school name and location\n        * location can be assumed to be user current location\n* Figure out if the student attent the high school we should look into the friend graph. probably one of your friends attend the same high school as you. \n    * he proposed to use 5 friends for threshold for simplicity\n    * there is a minor issue. if the student just moved. So there five friends mentioned the old school and not the new high school. He proosed to look if the student has updated their current location recently. if dont it is a little bit trickier\n    (* he mention also to use the curtrent student location to double check if the studnet atten the high school if the high school location was already determined by others user's location. (09:50)\n\n\n* Recap\n    * Do clarify question;\n    * Framing the problesm and split in small problems \n    * Use you intuition to hypothesizes distributions and have a gross idea of the threshold values\n    * Importanmt to point out risks in the nalysis and posiible problems and what you could do it.\n    * TRY to mention what kind of data could be used (operationalization: friend graph)\n\n\n* My note: This can be used to check if a company is real on linkedin."
  },
  {
   "metadata": {},
   "cell_type": "markdown",
   "source": "### Product Interpretation (12:16)  (DONE)\n\nhttps://vimeo.com/383174154/399f5104ab"
  },
  {
   "metadata": {},
   "cell_type": "markdown",
   "source": "* It is about to take ambiquous open ended product question and be able to solve it with analytical plan. Convert in a structured analytical question and how to solve it\n\n**Newsfeed team:**\n\n* What is the metric we should use to measure the health of newsfeed product    * he mentioned: the face goal is to connect peopple and build community. SO the value of product depends how well the product help face to archieve this goals.\n    * to connect people you should see news for diversity contents, diverse people and regions , not only from your friends\n    * discuss engaments metrics\n        1. numebr of post and number of people sharing post (this is related with diversity). Face do not want a small percentage of users publishing contents but a large amount for diversity. We wants a minimum number of posting as well to be profitable\n        \n* Follow up question: The PM wants to double the number of ads to increase the revenue and ask what would you help with that and what kind of data you can use\n    * ads: If we show the right ads in the right time, the user can be happy and might purchase or sign up for something that he needs. On the other hand, if its is not you just borthering him and face might loose engagement\n    * (19:20)metrics succes revenuew and country metrics engament = DAU or MAU or time spent on face\n        * the metrics but alsdo comparison over time. YOY, MTM and etc\n        * time spent is interesting. YOu can oncrease but adding more new user or increase the time the users spent on reading posts\n    * He proposed to AB testing: (24:10)\n        * double ads user:\n        * controled  users: dame other characteristc are similar the same. users follows same distribution\n        * use t-testing in the metrics: revenue and DAU\n* Follow up question: Imaging we run this test and the revenue goes up but the time spemt or post engament goes down\n    * (25:35) he said he needs first to figure out if the revenuew goes up temporally or for a long time (several months). We want to run the test for a longer time. Or repeat multiple times\n    * he mentioned that probably we take care more about engagment that is more strategically that allows other producsts to profit\n    * he mentioned that if we need to double the number of ad. The best value might be in the midle (27:00)"
  },
  {
   "metadata": {},
   "cell_type": "markdown",
   "source": "### Technical Analysis (27:30)  (DONE)\n\n* **Notes:L You can see how much information you can see from one table**\n\n* **SQL problem of Facebook news feed:**\n    * present a table schema, and explain all collumns meaning and types\n    * Try to maintain a consistent capitalization / indentation style for readability\n\n```text\niphone_feeds_log (data comes from logs)\n    user_id (BIGINT)  -- user is enging with news feed\n    post_id (BIGINT)  -- what post the user is engaged with\n    event_time (INT)  --  tell what time this is happening\n    event_type (STRING) -- event: the user is impressed, like it or comment\n```\n   * What type of stat would you use to give an overall view of feed engagement?\n       * clarification questions:\n           * the same post_id can appears in different users? off course it can\n           * she asked if it is okay for start to define engage as total number of impression, likes and comments.\n           \n```sql\nselect \n    eventtype,\n    count(*) as number_actions\nfrom iphone_feeds_log\ngroup by eventtype\n\n-- (30:50) this give us the number of impression, likes and comments in this table\n```\n\n* (31:00)follow up question: face wants to launch sponsored post in news feed. your goal is to precise (measure) revenue opportunity of this endevaour. How would you approach that. The logic of sponsored post is one per home load and one per scroll load\n    * (31:25)clarify qiestion. WOuld mind me to understand what is home load and scroll load?\n        * home load: 1st launc the app it will load 10 different posts. They shaer the same eventtime\n        * scroll load: after that the scroll load loads extra 5 posts. They share the the same eventtime\n    * clarify question: for home load , all post share the same eventtime. yes they share the same eventtime. scroll load post had subsequence eventtime \n    \n    * (33:00) She split the task in 3 pieces (It is very crucial to broken the problems in subproblems, always)\n        1. compute the number of post are loaded by user id and event time \n            * 10 mean home load\n            * 5 means scroll load\n        1. based in the previous, compute the total number of home loads and scroll loads\n        1. Compute the total revenue = (#home loads + #scroll loads) x revenue_per_ad \n            * guess or ask revenue_per_ad = USD 0.05/ad\n        \n```sql\n--- first step: (33:50)\n\nselect user_id, eventtime,\n        count(*) as n_post\nfrom iphone_feeds_log\ngroup by user_id, eventtime\n\n\n-- 2nd step  (35:00)\n\nselect n_post\n    count(*) as n_sponsored\nfrom \n    (\n     select user_id, eventtime,\n            count(*) as n_post\n     from iphone_feeds_log\n    group by user_id, eventtime\n    )\ngroup by n_post  -- (35:33) give 2 groups: 10 and 5 and the sum gives the number of total sponsored posts\n```\n\n* (35:50) Interruption with a quetion and warning: Something is missing. A post can have multiple reavctions: imp, like and comments. \n\n    * she decide to add a filter by eventytpe = 'imp' !? why?\n    \n```sql\n-- 2nd step  (35:00)\n\nselect n_post\n    count(*) as n_sponsored\nfrom \n    (\n     select user_id, eventtime,\n            count(*) as n_post\n     from iphone_feeds_log\n     where eventtype = 'imp' -- this mean the user see the post\n     group by user_id, eventtime\n    )\ngroup by n_post  -- (35:33) give 2 groups: 10 and 5 and the sum gives the number of total sponsored posts\n```  \n\n* (37:15) Follow up question: We decide that show sponsored post for every home load is not a good idea. It is better to show 5 out of 10 is actually new to you if it is new to you.    * clarification: new means is the first time to see that impression\n * (37:50) steps:\n     1. compute the first time a user see the post: user_id, post_id, first_time\n     1. repeat the steps for the previous question> compute the number of posts per user id and first time instead\n         * user id, first time, n_posts\n     1. filter by n_posts > 6 \n\n```sql\n-- 1st steP;\nselect user_id, post_id,\n        min(eventtime) as first_time\nfrom iphone_feeds_log \nwhere event_type = 'imp'  -- this mean the user see the post\n\n-- second\n\nselect user_id, first_time, \n        count(*) as n_post\nfrom (\n    select user_id, post_id,\n            min(eventtime) as first_time\n    from iphone_feeds_log \n    where event_type = 'imp'\n)\ngroup by user_id, first_time\n\n-- (41:30) last \n\nselect cpunt(*)\nfrom (\n    select user_id, first_time, \n            count(*) as n_post\n    from (\n        select user_id, post_id,\n                min(eventtime) as first_time\n        from iphone_feeds_log \n        where event_type = 'imp'\n    )\n    group by user_id, first_time\n)\nwhere n_posts > 6\n```\n\n* (42:30) last question: We decide that having sponsored feeds might be bad for user ecpereince in the news feed. How would quatntify if it is creating a bad user expereince?\n    * (42:59) She started by defining user experince: \n        * you can use number of likes and number of comments from the table\n        * total time spent o news feed\n     * after estimation this metrics, she proposed to use a/b testing\n         * test group (50% random select users): see sponsored post \n         * control group: do not see sponsore posts\n         * compare the metrics"
  },
  {
   "metadata": {},
   "cell_type": "markdown",
   "source": "### Quantitaive Analysys (44:15) (hard)\n\nDoes not include in the first round\n"
  },
  {
   "metadata": {},
   "cell_type": "markdown",
   "source": "* How long in average takes to an user receive a new feature if each day 10 users out of 1000 are selected to try the new feature?"
  },
  {
   "metadata": {
    "trusted": false
   },
   "cell_type": "code",
   "source": "",
   "execution_count": null,
   "outputs": []
  },
  {
   "metadata": {
    "heading_collapsed": true
   },
   "cell_type": "markdown",
   "source": "## Brushup conpects (TODO)\n\n\nConcepts that are useful to brush up on:\n* Experimentation and A/B Testing (also consider other types of experiments)\n* Modeling\n* Hypothesis Testing\n* Bias\n* Network Effects\n* Supply and Demand\n* Retention and other product health concepts"
  },
  {
   "metadata": {
    "hidden": true,
    "trusted": false
   },
   "cell_type": "code",
   "source": "import IPython\nfrom IPython.core.interactiveshell import InteractiveShell\nInteractiveShell.ast_node_interactivity = \"all\"",
   "execution_count": 37,
   "outputs": []
  },
  {
   "metadata": {
    "hidden": true
   },
   "cell_type": "markdown",
   "source": "### Retention and other product health contents (TODO)\n\n1. ~~material Felipe can help~~ Not good for study maybe as example and how marketer thinking\n1. reviews this series: https://towardsdatascience.com/data-driven-growth-with-python-part-1-know-your-metrics-812781e66a5b\n1. read this about 3 games business model product: \n    * https://amplitude.com/blog/product-north-star-metric\n1. explain DAU/MAU:\n    * https://a16z.com/2020/12/07/social-strikes-back-fastest-growing-apps/"
  },
  {
   "metadata": {
    "heading_collapsed": true,
    "hidden": true
   },
   "cell_type": "markdown",
   "source": "#### North star metrics framework\n"
  },
  {
   "metadata": {
    "hidden": true
   },
   "cell_type": "markdown",
   "source": "1. measure value give to customer and not the value companies get from customers\n\n1. is a leading indicator of success (revenue). Not a lagging indicator (ARPU, average revenue per user). NOrmally revenuew is not a give star metrics (Except on e-commerce like amazon)\n\n1. One metrics simplify communication, but is not mandatory\n\n3 GAmes approaches to choose North Star Metrics\n\nThis game is your core customer engagement model.\n\n1. **The Attention Game:** time spent using the product\n\n    * Facebook: time spent reading post and news feed \n    * Netflix: #users watching > X hours per month\n\n1. **The Transaction Game**: How many transaction or operations\n\n    * Amazon: purchase per prime subscriber\n    * Wallmart: purchase per visit/session\n\n1. **The Productivity Game**: How many productivity task a customer can do in your product\n\n    * Salesforce: avg recorded create by account\n    * Adobe: #Engaged cloud subscriber\n\n\nNotes: Face and Netflix play the same game with diofferent metrics. Because Netflix is subscriber service, it metrics is related to engaed subscriber while face metrics is about exposition of enged users sove they can see more ads.\n\n\n\n"
  },
  {
   "metadata": {
    "heading_collapsed": true,
    "hidden": true
   },
   "cell_type": "markdown",
   "source": "#### Metrics summary"
  },
  {
   "metadata": {
    "hidden": true
   },
   "cell_type": "markdown",
   "source": "* Engamnets metrics\n    * #logins\n    * time spent \n    * stickness (grudendo) indicates frequency of use: DAU/MAU. If DAU/MAU = 33% means that the users view the 10 days out of 30 days in a month. \n        * big picyture to access the network effect. more user frequently users engages with the app more valuable the network becomes to them\n    * adictive: how many time an userv open an app per day\n    * engrossing (catinvante or compelling): How much time the user spend per seesion in avergae in a day.\n\n* Financial metrics \n    * avg Revenue per user\n    * avg cost uer user\n    * Custimer life time value LTV\n        * Define a time frame: 3,6,12,24 months (avg ternure)\n        * Life Time Value: Total Gross Revenue - Total Cost\n        \n* User centric\n    * MAU, WAU and DAU\n    * retention \n        * opposed of churn \n        * measure product market fit \n    * retention rate = Retained Customers From Prev. Month/Active Customers Total\n   \n* Web traffic\n\n    * bounce rate:  It represents **the percentage of visitors who enter the site and then leave (\"bounce\") rather than continuing to view other pages within the same site.**\n    * exit rate: percentage of the user that left the web site in an specific point of the process or page \n    * New vs returning user (returning visitors, since returning visitors will have a higher likelihood of conversion.)\n\nCompany with hteir startegy is to grow like initial facebook stage\n\n* Growth metrcis\n\n    \n"
  },
  {
   "metadata": {
    "hidden": true
   },
   "cell_type": "markdown",
   "source": "### Study n review: A/b tesing and hypthesis testing (TODO)\n\nref:\n\n* Summary of udacity ab testing course (I liked this course)\n    * https://towardsdatascience.com/a-summary-of-udacity-a-b-testing-course-9ecc32dedbb1\n* https://netflixtechblog.com/interpreting-a-b-test-results-false-positives-and-statistical-significance-c1522d0db27a\n1. do bussab exercises\n1. do tech exercises from internet\n\n"
  },
  {
   "metadata": {
    "hidden": true
   },
   "cell_type": "markdown",
   "source": "#### Central Limit theorem"
  },
  {
   "metadata": {
    "hidden": true
   },
   "cell_type": "markdown",
   "source": "Take random sampl of a population with finite mean $\\mu$ and variance $\\sigma^2$\n\n1. sample mean $\\bar{X}_n$: $lim_{n \\to \\infty} \\bar{X}_n = \\mu $\n    *the smaple mean tend to the population mean when n is large\n    \n1. the sample variance $S_n^2$: $lim_{n \\to \\infty} S_n= \\frac{\\sigma}{\\sqrt{n}}$\n    * the sample variance tend to the population variance divide by the sample size\n\n1. the sample mean distribution follows a normal distribution: $\\bar{X_n} \\sim N(\\mu, \\frac{\\sigma}{\\sqrt{n}})$\n\nSome important points\n\n1. Increase the sample size helps to reduce the the error $d = \\bar{X_n} - \\mu$ and make the sample mean distribution more informative. It is always good to have large sample size\n\n1. The speed of convergenge depends of\n    1. sample size\n    1. Population distribution\n        * if population dist is normal the convergenge is faster than an uniform or exponential distribution\n"
  },
  {
   "metadata": {
    "hidden": true
   },
   "cell_type": "markdown",
   "source": "#### Power of test"
  },
  {
   "metadata": {
    "hidden": true
   },
   "cell_type": "markdown",
   "source": "* Where it is used\n    * hypothesis test to evaluate the quality of the test\n* What?\n    * It is the prob to rehect H0 when Ha = TRUE or,\n    * It is tghe probe to detect an effect when it is present\n    * Geometric interpretation:\n        * Overlap area is of H0 and Ha distribution is proportional to power\n            * The overlap is proportional to efefct size d and,\n            * Can increase with the variance of teh distributions\n* When value change\n    * Higher is the power, better is the quality of the test\n    * Higher Power means smaller probability to have FN (Type II error)\n\n* What can affect the Power\n    1. Sample size: big increase Power\n    1. effect size: big increase Power. But we do not have control Is not actionable. Is the thing you are measuring\n    1. The significance level $\\alpha$: small decrease Power by keeping all rest constant\n\n* Give an example\n\n    * \n\n<img src=\"../../images/low_vs_hig_power_same_effect_size.gif\" style=\"float:left\" width=\"600\" align=\"right\">   "
  },
  {
   "metadata": {
    "hidden": true
   },
   "cell_type": "markdown",
   "source": "* Equation for z test:\n    * https://cran.r-project.org/web/packages/distributions3/vignettes/one-sample-z-test.html\n    * https://en.wikipedia.org/wiki/Power_of_a_test\n\n"
  },
  {
   "metadata": {
    "hidden": true
   },
   "cell_type": "markdown",
   "source": "**Remembering:**\n\n$\nz \\sim N(0,1ˆ2) \\to \\phi(z) = \\frac{e^{1/2zˆ2/\\sigma^2}}{\\sqrt{2\\pi}}\\\\ \n$\n\nwhere $\\phi$ is the standart distribution. The cumulative distribution function is define as:\n\n$\n\\Phi(z) = \\int_{-\\infty}^z \\phi(t) dt \\\\\n$\n\n\n<img src=\"../../images/cumulative_standart_distribution.png\" style=\"float:left\" width=\"600\" align=\"right\">   "
  },
  {
   "metadata": {
    "hidden": true
   },
   "cell_type": "markdown",
   "source": "By definition:\n\n$\nP(\\textrm{reject H0|Ha=True}) =  P(\\textrm{reject H0}|\\mu=\\mu_a) \\textrm{ <= by definition} \\\\\n$\n\nWe reject H0 when the observed sample mean $x > x^*$ is greather than the critical vakue $x^*$.  \n\nDetermining the standardized critical value:\n\n$\n\\frac{x^{*}- \\mu_0}{\\sigma/\\sqrt{n}} \\ge z_{\\alpha/2}\n$\n\nIsolating for critical value $x^*$\n\n$\nx^* = z_{\\alpha/2}\\sigma/\\sqrt{n} + \\mu_0 \\\\\n$\n\nWe can re write the power equation as:\n\n$\nPower = P(x > x^{*}| \\mu = \\mu_a) \\\\\nP( x > \\frac{\\bar{x} - \\mu_0}{\\sigma/\\sqrt{n}} |\\mu=\\mu_a) \\\\\n$\n\n<img src=\"../../images/power1.jpg\" style=\"float:left\" width=\"600\" align=\"right\">   "
  },
  {
   "metadata": {
    "hidden": true
   },
   "cell_type": "markdown",
   "source": "Since we assume $Ha: true$ and because of the central limit theorem $P(x> x^*| \\mu = \\mu_a) \\sim N(\\mu_a, \\sigma^2/n)$. Lets standardize this distribution function.\n\n$\nPower = P(z > z^{*}| \\mu = \\mu_a) \\\\\n$\n\nwhere $z^{*} = \\frac{x^{*} - \\mu_a}{\\sigma/\\sqrt{n}}$\n\n$\nPower = P(z > \\frac{x^{*} - \\mu_a}{\\sigma/\\sqrt{n}} | \\mu = \\mu_a) \\\\\n = P(z > \\frac{ z_{\\alpha/2}\\sigma/\\sqrt{n} + \\mu_0- \\mu_a}{\\sigma/\\sqrt{n}} | \\mu = \\mu_a) \\\\\n = P(z >  z_{\\alpha/2} - \\frac{\\mu_a- \\mu_0}{\\sigma/\\sqrt{n}} | \\mu = \\mu_a) \\sim N(0,1) \\\\\n$\n\nUsing the fact that $P(z > z^*) = 1.0 - P(z < z^*)$ ($p + q = 1$).\n\n$\nPower = 1.0 - P(z <  z_{\\alpha/2} - \\frac{\\mu_a- \\mu_0}{\\sigma/\\sqrt{n}} | \\mu = \\mu_a)  \\\\\n$\n\nThe left bottom distribution in the image above shows us that we can rewrite the last equation in terms of the cumulative distribution function (cdf) $\\Phi(z)$ as:\n\n$\n\\Phi(z) = P(z > z^*) \\\\ \nz^* = z_{\\alpha/2} - \\frac{\\mu_a- \\mu_0}{\\sigma/\\sqrt{n}} \\\\\nPower = 1 - \\Phi(z^*) \\\\ \n = 1 - \\Phi(z_{\\alpha/2} - \\frac{\\mu_a - \\mu_0}{\\sigma/\\sqrt{n}})\n$\n"
  },
  {
   "metadata": {
    "hidden": true
   },
   "cell_type": "markdown",
   "source": "**Power analysis**"
  },
  {
   "metadata": {
    "hidden": true,
    "trusted": false
   },
   "cell_type": "code",
   "source": "import numpy as np\nimport matplotlib.pyplot as plt\nfrom statsmodels.stats.power import TTestIndPower\n \n# power analysis varying parameters\neffect_sizes = np.array([0.01, 0.02, 0.05, 0.1])\nsample_sizes = np.array(range(5, 50000,25)) # different sample sizes\n  \n# plot power curves\nobj = TTestIndPower()\nobj.plot_power(dep_var='nobs', nobs=sample_sizes,alpha=0.05,\n               effect_size=effect_sizes,\n              title='Power of Independent Samples t-test\\n$\\\\alpha = 0.05$');\n  \n#plt.show()",
   "execution_count": 63,
   "outputs": [
    {
     "data": {
      "image/png": "[encoded data removed]",
      "text/plain": "<Figure size 432x288 with 1 Axes>"
     },
     "metadata": {
      "needs_background": "light"
     },
     "output_type": "display_data"
    }
   ]
  },
  {
   "metadata": {
    "hidden": true,
    "trusted": false
   },
   "cell_type": "code",
   "source": "?obj.plot_power",
   "execution_count": 62,
   "outputs": []
  },
  {
   "metadata": {
    "hidden": true
   },
   "cell_type": "markdown",
   "source": "### Exercises hypotheis testing\n\n* https://www.youtube.com/watch?v=K6wNyoDdRSk\n* z table: http://www.z-table.com/\n* t table: http://www.z-table.com/t-value-table.html\n* $\\chi^2$ table: http://www.z-table.com/chi-square-table.html"
  },
  {
   "metadata": {
    "hidden": true
   },
   "cell_type": "markdown",
   "source": "1. Ex 1  (2 side test)(03:45)\n    * Vendors claim that average box weight is 1.84kg with population standart deviation of 0.3 kg\n    * Sample 64 boxes with average weight of 1.88 kg \n    * Use $\\alpha = 0.05$\n    * Test if the true mean is 1.84kg\n    \n    \nSolution\n\n$\nH0: \\mu = 1.84 \\\\\nHa: \\mu \\neq 1.84 \\\\\n$\n\nCompute the critical value. \n* Test is different => tw0-side tail test\n* sample size large than 30 => z-test\n* population variance is knows => z-test\n\n\nLook into z-table\n$\nz_{\\alpha=0.05/2} = z_{x} = z_{0.975} \\equiv = +/- 1.96\\textrm{ <== 0.025 each tail} \n$\n\n<img src=\"../../images/ex1_hypothesis_test.png\" style=\"float:left\" width=\"600\" align=\"right\">"
  },
  {
   "metadata": {
    "hidden": true,
    "trusted": false
   },
   "cell_type": "code",
   "source": "# Altenative to look into the table you can use the python code\nimport scipy.stats as st\n\n# ppf: Percent point function is the inverse of cdf (culmulative distribution function)\n# ppf(alpha)\nprint(st.norm.ppf(0.025))\nprint(st.norm.ppf(0.975))",
   "execution_count": 10,
   "outputs": [
    {
     "name": "stdout",
     "output_type": "stream",
     "text": "-1.9599639845400545\n1.959963984540054\n"
    }
   ]
  },
  {
   "metadata": {
    "hidden": true,
    "trusted": false
   },
   "cell_type": "code",
   "source": "?st.norm.ppf",
   "execution_count": 8,
   "outputs": []
  },
  {
   "metadata": {
    "hidden": true,
    "trusted": false
   },
   "cell_type": "code",
   "source": "# Compute the std of the sample mean\n# st.sem(sample_data)\n?st.sem",
   "execution_count": 23,
   "outputs": []
  },
  {
   "metadata": {
    "hidden": true
   },
   "cell_type": "markdown",
   "source": "Compute the observable z value\n\n$\nz^* = \\frac{1.88 - 1.84}{0.3/\\sqrt{64}} \\\\\nz^* = \\frac{0.04}{0.3/8} = \\frac{0.04}{0.0375}\\\\\nz^* = 1.07\n$\n\nSince $z^* = 1.07 < z_{0.975} = 1.96 $ we fail to reject H0. **It is inconclusive the test.**"
  },
  {
   "metadata": {
    "hidden": true
   },
   "cell_type": "markdown",
   "source": "**Solving using 95% Confidence interval**\n\n\n$\n95% Ci = [\\mu_a - 1.96* \\sigma/\\sqrt{n}, \\mu_a + 1.96* \\sigma/\\sqrt{n}] \\\\\n = [1.88 - 1.96*0.3/8.0, 1.88 + 1.96*0.3/8.0] \\\\\n = [1.88 - 1.96*0.3/8.0, 1.88 + 1.96*0.3/8.0] \\\\\n = [1.88 - 1.96*0.0375, 1.88 + 1.96*0.0375] \\\\ \n = [1.88 - 0.061, 1.88 + 0.061] \\\\\n = [1.81, 1.95] \\\\\n$\n\n\nSince $1.82 < \\mu_0 = 1.84 < 1.94$ the test is not statistical significant. We fail to reject H0\n"
  },
  {
   "metadata": {
    "hidden": true,
    "trusted": false
   },
   "cell_type": "code",
   "source": "## Computation memory\nprint(st.norm.ppf(0.975))\nprint(st.norm.cdf(1.96))\n1.88 - 1.96*0.3/8.0",
   "execution_count": 89,
   "outputs": [
    {
     "name": "stdout",
     "output_type": "stream",
     "text": "1.959963984540054\n0.9750021048517795\n"
    },
    {
     "data": {
      "text/plain": "1.8065"
     },
     "execution_count": 89,
     "metadata": {},
     "output_type": "execute_result"
    }
   ]
  },
  {
   "metadata": {
    "hidden": true,
    "trusted": false
   },
   "cell_type": "code",
   "source": "import scipy.stats as st\n\n# standart normal N(0,1)\nst.norm.interval(0.95, loc=0.00, scale=1.0)\n\n# N(1.88, 0.3^2/64)\nst.norm.interval(0.95, loc=1.88, scale=0.3/8.0) # Expecting [1.81, 1.95] see manuall computation above",
   "execution_count": 91,
   "outputs": [
    {
     "data": {
      "text/plain": "(-1.959963984540054, 1.959963984540054)"
     },
     "execution_count": 91,
     "metadata": {},
     "output_type": "execute_result"
    },
    {
     "data": {
      "text/plain": "(1.8065013505797478, 1.953498649420252)"
     },
     "execution_count": 91,
     "metadata": {},
     "output_type": "execute_result"
    }
   ]
  },
  {
   "metadata": {
    "hidden": true,
    "trusted": false
   },
   "cell_type": "code",
   "source": "?st.norm.interval",
   "execution_count": 72,
   "outputs": []
  },
  {
   "metadata": {
    "hidden": true
   },
   "cell_type": "markdown",
   "source": "1. Ex2: (05:57)\n    * Machine build parts of lentgh of 4.125 mm\n    * Sample 20 parts with average lentgh 4.120mm and smaple standart desviation 0.008 mm\n    * Use $\\alpha = 0.10$.\n    * Determine whether or not the length has decreased?\n    \nMy solution\n\n$\nH0: \\bar{X_n} = \\mu \\\\\nHa: \\bar{X_n} < \\mu \n$\n\nWe are goping to use one sidehypothesis test since you want to check if has decreased or not. First find the critical value for t distribution (**sample size less than 30 and the poppulation variance is unknown**).\n\n$\nt_{\\alpha = 0.10, df = 20-1} \\\\\nt_{0.10,19} = -t_{0.9,19} \\equiv -1.328 \\textrm{ <= look into t table}\\\\ \n$\n\n"
  },
  {
   "metadata": {
    "hidden": true
   },
   "cell_type": "markdown",
   "source": "<img src=\"../../images/ex2_hypothesys_test.png\" style=\"float:left\" width=\"600\" align=\"right\">\n"
  },
  {
   "metadata": {
    "hidden": true
   },
   "cell_type": "markdown",
   "source": "Calculating what we have observed:\n\n$\nt^* = \\frac{4.125 - 4.120}{0.008/\\sqrt{20}} \\\\\nt^* = \\frac{0.005}{0.0018} = -2.78 \\\\\n$\n\nIs $t^* < t_{0.10,19}$ ?\n* Yes so the lenhth has decreased"
  },
  {
   "metadata": {
    "hidden": true,
    "trusted": false
   },
   "cell_type": "code",
   "source": "# ppf: Percent point function is the inverse of cdf (culmulative distribution function)\n# t.ppf(alpha, df)\nprint(st.t.ppf(0.10, 20-1))\nprint(st.t.ppf(0.90, 20-1))",
   "execution_count": 7,
   "outputs": [
    {
     "name": "stdout",
     "output_type": "stream",
     "text": "-1.3277282090267981\n1.3277282090267986\n"
    }
   ]
  },
  {
   "metadata": {
    "hidden": true,
    "trusted": false
   },
   "cell_type": "code",
   "source": "?st.t.ppf",
   "execution_count": 9,
   "outputs": []
  },
  {
   "metadata": {
    "hidden": true
   },
   "cell_type": "markdown",
   "source": "**Solving using 95% Confidence interval**\n\n1. Computing the confidence level"
  },
  {
   "metadata": {
    "hidden": true,
    "trusted": false
   },
   "cell_type": "code",
   "source": "print(st.t.ppf(1.0 - 0.10, 20-1))",
   "execution_count": 32,
   "outputs": [
    {
     "name": "stdout",
     "output_type": "stream",
     "text": "1.3277282090267986\n"
    }
   ]
  },
  {
   "metadata": {
    "hidden": true
   },
   "cell_type": "markdown",
   "source": "$\n90% Ci = [4.120 - 1.328*0.008/\\sqrt{20}, 4.120 + 1.328*0.008/\\sqrt{20}] \\\\\n = [4.120 - 1.328*0.0018, 4.120 + 1.328*0.0018] \\\\\n = [4.117, 4.122] \\\\\n$\n\nSince $4.117 > 4.120 (observed) > 4.122 > \\mu_0 = 4.125$. The H0 is outside the 90% confidence interval. So, **The measured lenght has decreased**"
  },
  {
   "metadata": {
    "hidden": true,
    "trusted": false
   },
   "cell_type": "code",
   "source": "# computation memory\n0.008/np.sqrt(20)\nst.t.ppf(1.0 - 0.10, 20-1)*0.008/np.sqrt(20) \n4.120 - st.t.ppf(1.0 - 0.10, 20-1)*0.008/np.sqrt(20) \n4.120 + st.t.ppf(1.0 - 0.10, 20-1)*0.008/np.sqrt(20) ",
   "execution_count": 41,
   "outputs": [
    {
     "data": {
      "text/plain": "0.0017888543819998316"
     },
     "execution_count": 41,
     "metadata": {},
     "output_type": "execute_result"
    },
    {
     "data": {
      "text/plain": "0.002375112424822377"
     },
     "execution_count": 41,
     "metadata": {},
     "output_type": "execute_result"
    },
    {
     "data": {
      "text/plain": "4.117624887575178"
     },
     "execution_count": 41,
     "metadata": {},
     "output_type": "execute_result"
    },
    {
     "data": {
      "text/plain": "4.122375112424822"
     },
     "execution_count": 41,
     "metadata": {},
     "output_type": "execute_result"
    }
   ]
  },
  {
   "metadata": {
    "hidden": true
   },
   "cell_type": "markdown",
   "source": "1. ex3: (08:50)\n    * Billing statement has some error of 15%\n    * Sample of 1000 encounter 102 billing with error.\n    * Use $\\alpha = 0.10$\n    * Determine whether is the proportion of error less than 15%\n \nElaborating the test\n$\nH0: p = 0.15 \\\\\nHa: p < 0.15 \\\\\n$\n\nSince $np > 10$ and $n(1-p) > 10$ we can use z-test in this case. Also thew sample size is huge\n\nDetermine the critical values\n\n$\nz_{\\alpha = 0.10} = - z_{0.90} \\equiv -1.28 \\textrm{ <== look into z table link} \\\\\n$\n\n<img src=\"../../images/ex3_hypothesis_test.png\" style=\"float:left\" width=\"600\" align=\"right\">"
  },
  {
   "metadata": {
    "hidden": true
   },
   "cell_type": "markdown",
   "source": "Compute the sample standart deviation\n\n$\n\\sigma^2 = p*(1-p) = 0.15*(0.85) \\equiv 0.1275\n$\n\n> Ps: Bernoulli distribution the variance is $\\sigma^2 = pq$ and the expected mean is $\\mu = p$\n> ref: https://en.wikipedia.org/wiki/Bernoulli_distribution\n> Ps: For proportion the expecyed distribution for small sample size is the bernoulli distribution\n> https://towardsdatascience.com/understanding-bernoulli-and-binomial-distributions-a1eef4e0da8f\n\nCompute the observable z:\n\n$\np = 102/1000 = 0.102 \\\\\nz^* = \\frac{0.102 - 0.15}{/\\sqrt{0.1275/1000}} \\\\\nz^* = \\frac{-0.048}{0.01} \\\\\nz^* = -4.8\n$\n\nSince $z^* = -4.8 < z_{0.10} = -1.28 $ we reject H0. **The percentage of billing with error is less than 15%** because it is incompatible with the random sample."
  },
  {
   "metadata": {
    "hidden": true
   },
   "cell_type": "markdown",
   "source": "1. ex4: (11:27)\n     * Machine is running with variance of 6.21 for criticsl dimension\n     * After improving the machine a sample of size 13 are drawn randomly and now the variance 6.28.\n     * USe $\\alpha = 0.05$\n     * determine wether or not the variance has increased\n    \n    \n$\nH0: \\sigma^2 = 6.25 \\\\\nHa: \\sigma^2 > 6.25 \\\\\n$\n\nFor variance we expect the sample variance follows a $\\chi^2_k$ distribution where k is the degree is of freedom: https://en.wikipedia.org/wiki/Chi-squared_distribution\n* mean: $\\mu = k$\n* variance: $\\sigma^2 = 2k$\n\nWhere it apears\n1. If $X_1, X_2, ..., X_n$ where X_i are independent and identical $N(\\mu,\\sigma)$ therefore $\\sum_k (X_k - \\bar{X})^2 \\sim \\sigma^2 \\chi^2_k$\n\n\nWith thie brief review. Now we are going to compute criticsl values\n\n$\n\\chi^2(\\alpha=0.05, df=13-1) \\\\\n\\chi^2(\\alpha=0.05,12) =  21.03 \\\\ \n$\n\nCompute observable $\\chi$ statistics:\n\n**TODO**: I still need to study this \n$\n\\chi^2 = \\frac{(n-1)s^2}{\\sigma^2} \\\\\n\\chi^2 = \\frac{(13-1)6.28}{6.25} \\\\\n\\chi^2 = 13.10\n$\n\nWe fail to reject H0. **SO the test in inconclusive.**\n\n<img src=\"../../images/ex4_hypothesis_test.png\" style=\"float:left\" width=\"600\" align=\"right\">"
  },
  {
   "metadata": {
    "hidden": true,
    "trusted": false
   },
   "cell_type": "code",
   "source": "print(st.chi2.ppf(0.05,12))\nprint(st.chi2.ppf(1.0- 0.05,12))\n",
   "execution_count": 13,
   "outputs": [
    {
     "name": "stdout",
     "output_type": "stream",
     "text": "5.226029488392639\n21.02606981748307\n"
    }
   ]
  },
  {
   "metadata": {
    "hidden": true
   },
   "cell_type": "markdown",
   "source": "### Engineer claims improvemnts of 5 miles per gallon \n\nhttps://study.com/academy/answer/an-engineering-research-center-claims-that-through-the-use-of-a-new-computer-control-system-automobiles-should-achieve-on-average-at-least-an-additional-5-miles-per-gallon-of-gas-a-random-sample-of-81-automobiles-was-used-to-evaluate-this-product-th.html"
  },
  {
   "metadata": {
    "hidden": true
   },
   "cell_type": "markdown",
   "source": "```text\nAn engineering research center claims that, through the use of a new computer control system, automobiles should achieve, on average, at least an additional 5 miles per gallon of gas. A random sample of 81 automobiles was used to evaluate this product. The sample mean increase in miles per gallon achieved was 4.5, and the sample standard deviation was 2.9 miles per gallon.\n\na. State the appropriate null and alternative hypotheses.\n\nb. Test the hypothesis at the 5% level.\n\nc. Find the p-value of this test and interpret the results.\n```"
  },
  {
   "metadata": {
    "hidden": true
   },
   "cell_type": "markdown",
   "source": "Since it is a claim. The bes strategy is to define H0 equal to the claim and try to reject it or not\n\n$\nH0: \\mu = 5 \\\\\nHa: \\mu \\neq \\textrm{ or} \\\\\nHa: \\mu < 5 \\\\\n$\n\n* Use $\\alpha = 0.05$\n* sample size = 81. So you can use t-test or z-test. Lets do both for both cases\n\nCompute t critical and z critical\n\n* $Ha: \\neq 5$ using to side test\n  "
  },
  {
   "metadata": {
    "hidden": true,
    "trusted": false
   },
   "cell_type": "code",
   "source": "# 2 side tests\n\nt_critical_2sides = st.t.ppf(0.025,81-1)\nz_critical_2sides = st.norm.ppf(0.025)\n\nprint(\"2 SIDES\")\n\nprint(t_critical_2sides)\nprint(z_critical_2sides)\n\n\nprint(\"1 SIDES\")\n\nt_critical_1side = st.t.ppf(0.05,81-1)\nz_critical_1side = st.norm.ppf(0.05)\n\nprint(t_critical_1side)\nprint(z_critical_1side)",
   "execution_count": 19,
   "outputs": [
    {
     "name": "stdout",
     "output_type": "stream",
     "text": "2 SIDES\n-1.9900634210283845\n-1.9599639845400545\n1 SIDES\n-1.6641245785296972\n-1.6448536269514729\n"
    }
   ]
  },
  {
   "metadata": {
    "hidden": true
   },
   "cell_type": "markdown",
   "source": "* Compute the observable t and z score\n\n$\nt = \\frac{4.5-5.0}{2.9/\\sqrt{81}} \\\\\nt = \\frac{-0.5}{0.32} \\\\\nt = -1.55 \\\\\n$\n\n* Comparing the observable statistics with all critical values\n\n$\n-1.99 < 1.95 < -1.66 < -1.64 < -1.55 \n$\n\n\nWe fail to reject $H0$. The engineers might be saying the truth. There is an data supported evidence that the system improve the the efficiency\n"
  },
  {
   "metadata": {
    "hidden": true
   },
   "cell_type": "markdown",
   "source": "**Repeat this test by using $H0: \\mu = 0$ and then ai get 4.5**\n"
  },
  {
   "metadata": {
    "heading_collapsed": true
   },
   "cell_type": "markdown",
   "source": "## Bias (DONE)"
  },
  {
   "metadata": {
    "hidden": true
   },
   "cell_type": "markdown",
   "source": "https://www.kdnuggets.com/2020/06/five-cognitive-biases-data-science.html\n\n1. Survivorship Bias: Airplane in the WW2. COllected data form the ariplane that survived in order to determine how to improve the airplane. We should look into the one that did not survived\n\n\n1. Sunk Cost Fallacy. Because you have already read half of bad book , you want to finish it. DS projects that arev longer than 2 years and you still want to finish\n\n\n1. False causality: Physiscian and umebr of diagnosed disease\n\n1. 4. Availability Bias: “You can’t get fat from drinking beer, because Bob drinks a lot of it, and he’s thin.” \n\n\n1. Confirmation Bias: \"if you torture the data long enough, it will confess\". "
  },
  {
   "metadata": {
    "heading_collapsed": true
   },
   "cell_type": "markdown",
   "source": "## Error:\n\n1. Systematic; It is consistent, like a bug. Causes the ML to learn wrong patterns. \n    1. bug\n    1. choose simple model or incorrect error. never will improve the model\n1. Random erro: increase the sample data minimizes"
  },
  {
   "metadata": {
    "hidden": true
   },
   "cell_type": "markdown",
   "source": "### Network effect (DONE)"
  },
  {
   "metadata": {
    "hidden": true
   },
   "cell_type": "markdown",
   "source": "The network or service becomes better as the size increase.\nEx:\n1. Waze the traffic information increase with the number of users\n1. Facebook: social media\n1. Uber the quality of service increase with the number of driver and users"
  },
  {
   "metadata": {
    "hidden": true
   },
   "cell_type": "markdown",
   "source": "### Suppply and demand (TODO)\n"
  },
  {
   "metadata": {
    "hidden": true,
    "trusted": false
   },
   "cell_type": "code",
   "source": "",
   "execution_count": null,
   "outputs": []
  },
  {
   "metadata": {},
   "cell_type": "markdown",
   "source": "## Product Case Study"
  },
  {
   "metadata": {},
   "cell_type": "markdown",
   "source": "How to be assed?\n\n1. Framing,\n2. Hypothesis Drivenness.  <== Mckinsey\n3. Operationalization,\n   1. use data to solve the problem \n4. Analytical Understanding \n"
  },
  {
   "metadata": {
    "trusted": false
   },
   "cell_type": "code",
   "source": "",
   "execution_count": null,
   "outputs": []
  },
  {
   "metadata": {},
   "cell_type": "markdown",
   "source": "### Product metric question\n\nhttps://igotanoffer.com/blogs/product-manager/product-metric-interview-questions\n"
  },
  {
   "metadata": {},
   "cell_type": "markdown",
   "source": "## Technical Analysis"
  },
  {
   "metadata": {},
   "cell_type": "markdown",
   "source": "### Review: Technical Analysis"
  },
  {
   "metadata": {
    "trusted": false
   },
   "cell_type": "code",
   "source": "",
   "execution_count": null,
   "outputs": []
  },
  {
   "metadata": {},
   "cell_type": "markdown",
   "source": "## Summary main  chapters: Crack PM interview\n\n**warning**: Sometimes looks like Mcinsey Consulting interview. There are similarity and some common questions, but they are different. The goal is different. the PM is to build or improve a product while Consulting look into the company as whole and they are more data driven by collecting data while PM are data driven by doing experiments. \n\n**warmning** You are evaluate by the process you reach a conclusion and not if the conclusion is right or not.\n"
  },
  {
   "metadata": {},
   "cell_type": "markdown",
   "source": "### Frameworks \n\n**the most important one for answer open ended questions**\n\n1. the recrtuiter is exepcting structyure and he is trying to recognize one of know pattern\n1. they consider this as sign of good candidate\n\n\nhttps://www.linkedin.com/pulse/how-crush-product-management-case-interviews-pt12-sarthak-handa/ \n\nhttps://youexec.com/book-summaries/cracking-the-pm-interview  \n\nhttps://medium.com/@iaashishjindal/summary-decode-and-conquer-4db3c8834291"
  },
  {
   "metadata": {},
   "cell_type": "markdown",
   "source": "Summary of all frameworks\n\n1. How to answer product sense question: 7 steps\n1. User Journey: AARRR\n1. How to define Metric: Action, Unit of mesurement, STatistics\n1. How t improve or open question:\n1. How to clarify the product: \n    1. Describe the product briefly\n    1. Enumerate the features you know\n    1. Ask if there is any feature that you should be aware with or anything that is imprtant in the product\n1. Talk about project\n    * STAR or SAR\n    * Goal, Impact, Action, Chalenges, Findings\n    \n1. How to answer beahvoral questions\n    1. Nugget (Thesis,)\n    1. SAR\n"
  },
  {
   "metadata": {},
   "cell_type": "markdown",
   "source": "The framework:\n\n7-steps I rearrange on 3 steps: (For me it is easy this way to rememeber)\n\n\n1. Understand the probelm \n      \n    1. Clarify Goal/Limits/Context: make sure you underdtand the goal of the quesyion? What is users goals? eaht is the project or company goals?\n        * What is the purpose of the measurement ? How it is going to be used\n        * Double check if you know the  product? Is it Facebook stories, or Meta POrtal device (video call device)\n    \n    1. Context: Identify the big picture user (generic user. customer of supermarket like Canadian Tire)\n    \n    1. Structured the problem: Say your structure\n\n1. Brainstorm: Users n pain/points (this is the things you will decide to solve or improve)\n\n    1. Identify users n customers  (specific): Who is uisng? kids and co-users is parents? constumers and co-users are supermarket startey? (detailed)\n\n    1. Identify users/customer needs or pain point.\n        * A list for each type of user or,\n        * a list for each steps in customer journey #A <===\n        \n    1. List possible solutions or things to try\n   \n1. Solution\n\n    1. Prioritize users/customer needs/pain pooints (matrix Imapct x effort=cost)\n        * find the biggest problems or **the low hanging fruits**\n    1. Design features and **evaluate tradeoffs**.\n    1. **Determine how you are gonna measure it**\n    1. Summarize your solution/approach\n\nExamples: Brainstorm ideas mehodolgies\n\n* User segmentation =>\n  * Social media: Split by users segments: old, mid age or young\n  * Supermarket (Canadian Tire): **home maker (DIY) (needs/pain points)**,\n    beginner n mid age professionals (needs/pain points), senior\n    professionals (needs/pain points), staff (needs/pain points)\n* User journey (we need to understand the product) and needs/pain points\n  * Supermarket (Canadian Tire):\n    1. Shopping list\n    2. Travel to store\n    3. Parking at store\n    4. **Navigate instore**\n       * Pain/nneds: difficult to find products in large store\n    5. **Compare items**\n       1. Difficult to compare products\n    6. Drag cart\n    7. Wait in queue \n\n\n<img src=\"../../images/framework_CPMI_1.png\" style=\"float:left\" width=\"500\" align=\"right\">  \n\n\n<img src=\"../../images/framework_CPMI_2.png\" style=\"float:left\" width=\"500\" align=\"right\">"
  },
  {
   "metadata": {},
   "cell_type": "markdown",
   "source": "What are the 3 type of questions ranked by most asked\n\nhttps://www.stratascratch.com/blog/the-ultimate-guide-to-product-data-science-interview-questions/\n\n* Product sense\n\n    1. Analyzing a metric related problem (Most common)  Applied Data Question\n        * Ex: X decrease =>Uber Black rides have dropped 10%. How would you investigate this reduction?\n        * Ex: X increase but Y decrease => There is an increase of users who feel their privacy is respected by 8%, but the engagement to the Google Play Services has decreased by 14%. How would you investigate this discrepancy?\n    1. Measuring impact of a new product/feature \n        * Ex: What metric would you use to measure the impact of a search toolbar change?\n        * Ex: How would you measure the success of YouTube shorts?\n    1. Designing a product\n        * Ex: Describe how to engineer the heatmap telling taxi drivers where to go to maximize their probability to get a client. How do you define which area will have high demand next and who do you want to go there?  <== cool\n        * Ex: What would you do to summarize a Twitter feed? <== cool \n"
  },
  {
   "metadata": {},
   "cell_type": "markdown",
   "source": "### Behavoral questions"
  },
  {
   "metadata": {},
   "cell_type": "markdown",
   "source": "```text\n| skill      | Cargill | Synopsys | CWB     | Side project |\n|------------+---------+----------+---------+--------------|\n| Leadership | store 1 |          |         |              |\n| team work  | store 1 |          |         |              |\n| Success    |         |          | store 2 |              |\n| Challenges |         |          | store 2 |              |\n| Failures   |         | store 3  |         |              |\n```\n\nFramework to answer: **SAR**\n\n* Nugget: Your thesis  (comppeling)\n    * Ex: Let me tell you about the time a teammate objected to the product’s new direction\n* S: Situation\n* A: Actions\n* Results and what you learned\n"
  },
  {
   "metadata": {},
   "cell_type": "markdown",
   "source": "### Notes from Daniel Lee from datainterview.com"
  },
  {
   "metadata": {},
   "cell_type": "markdown",
   "source": "Examples of missions;\n\n* Google: organized world's information\n* Face: give user the power of build communityand connect\n* Youtube: Everyone should have a voice and be listenned "
  },
  {
   "metadata": {},
   "cell_type": "markdown",
   "source": "**North Star metrics**\n\n1. What the CEO look to make sure the company is going in the right direction\n    * \"We aim to improve our star metrics to 10% next year\"\n1. STartegically: long-term goals \n\n\n**Note revenue is not a good long-term metric**\n\nExamples\n* Face n Netflx: hours spent \n* Sales\n\n\n**Driver metric**:\n\nShort-term metric if improved will improve the north star metric.\n\n1. Aligned with North Star\n1. Acionable\n1. Sensitive\n\nIerarchical\n\n1. North Star\n    1. Driver\n        * supporting metric I, II\n        \n        \nEx: Face\n\n* North Satr: hours on FB\n    * hours on News feed\n    * #connections (engements: community)\n    * #comments  (engament)\n    * #click notificaions\n    * #transactions in marketplace\n    \n**Guardrail metric**\n\nMeasure the side effect of the treatment. There is always trade-off\n\n* #ads per post vs engaments \n* ad revenue vs engagements\n\nFramewrok of 2 steps to define one:\n\n*The framework avoid you to be ambiquous, vage or not especific. Because the value measure things right, communicate well and structure*\n\n1. Action: Identify an user action to measure\n    * Count: Clicks, page views, #visits\n    * Time: time spend neews feeds, on stream\n    * Value: revevuee, #units purchased, #ads clicked !?\n    \n1. Unit of anlaysis: Measure by\n    * per user (#cliks per user)\n    * per page  (rev per page)\n    * per session (minutes per session)\n    * per year  (#visits per year)\n1. statistics (mea, median. count,...)\n    1. avergae\n    1. median\n    1. total ...\n"
  },
  {
   "metadata": {},
   "cell_type": "markdown",
   "source": "Talk about frameworks to answer metrics questions\n\n1. AARRRg: (<== The most common Dave McClure)  \n    1. Acquisiotn or Awareness: How to be find or new feaure discovered. How many clicked in email offer n etc\n        * Ex: CTR in the link of the promotion for example, visit app, CTR in the new features \n        * Metrics examples: Unique website hits, newsletter sign ups and customer acquisition costs, **stay 1 minute or plus**\n    1. Activation: Are these people taking the actions we want them to? (Logins, have posted before )\n        * How many users make a purchase, sign up or post for first time (use the new feature for the firs time)\n        * Ex: Metrics signups free trials, signups (SaaS), use free app or trial version, pay for the app\n    1. Retention: Ho many returned, resuse the new featre\n        * Use the app 3 times in the last 30 days\n        * Publish in thw last 7 days\n        * Use the app in the last 10 days or login in the system for last 30 days\n    1. Referral: Hw many gave referral of the newfeatures\n        * send or share a link with the new feature\n        * send link for 1 user who has activated his account\n    1. Revenuew generated by the customer\n        * revenue per user\n        * total revenue for all user \n    \nJourney approach\n\nUsed to asnwer overall (global broader measurement) of a product \n\nThe first item is NOT Awareness and the section Action is acqisuition becomes a payer user \n\n<img src=\"../../images/aarrrg_metric.png\" style=\"float:left\" width=\"600\" align=\"right\">\n"
  },
  {
   "metadata": {},
   "cell_type": "markdown",
   "source": "\n**TOP-DOWN** approach\n\n1. GAME\n\n    1. Goal\n    1. Action\n    1. Metric\n    1. Evaluate\n\nHelp you to synthesize general questions like\n1. How would you measure the success of Airbnb\n1. How wuld you measure users churn on uber\n1. Measure the success of launch Stories in instagram\n"
  },
  {
   "metadata": {
    "trusted": false
   },
   "cell_type": "code",
   "source": "",
   "execution_count": null,
   "outputs": []
  },
  {
   "metadata": {},
   "cell_type": "markdown",
   "source": "### Ex: Product interpretation "
  },
  {
   "metadata": {
    "trusted": false
   },
   "cell_type": "code",
   "source": "",
   "execution_count": null,
   "outputs": []
  },
  {
   "metadata": {},
   "cell_type": "markdown",
   "source": "### Ex: The Applied Data "
  },
  {
   "metadata": {
    "trusted": false
   },
   "cell_type": "code",
   "source": "",
   "execution_count": null,
   "outputs": []
  },
  {
   "metadata": {},
   "cell_type": "markdown",
   "source": "## Summary manin chapters: Trustworthy Online Controlled Experiments\n\n\nrefs:\n* https://xiarongcui.medium.com/design-an-a-b-test-with-case-study-from-trustworthy-online-controlled-experiments-the-most-7707eee9f5e3\n* https://medium.datadriveninvestor.com/analyze-and-make-decision-of-your-a-b-test-result-with-guidance-from-trustworthy-online-controlled-a74eb705b0db?gi=effd40c99ba2\n\n\n"
  },
  {
   "metadata": {},
   "cell_type": "markdown",
   "source": "### Hypothesis testing "
  },
  {
   "metadata": {},
   "cell_type": "markdown",
   "source": "Interpreting confidence interval:\n\n* For parametric hypothesis tetsing always agrees with p-value\n    * for boostrap hypothesis testing might disagree sometimes\n* It works with the concepts of statitistcal significsant and practical significsnt\n    * practical significant is related to effect size make a contribution to the project. \n        * for instance a change of 0.2% for a small startup is not practical because the number of users are not so large like in big companies. Howerver can be practical significant for facebook: $0.2%*1B USD = 2MUSD$ and thw products in big companies progress by small steps og 0.1% or 0.2% so in an year can be reach 2%. Requires a lot of power in the test.\n\n* Common Misunderstood: 95% confidence level has 95% chance of contain the true value (population mean or proportion)  **<==THIS IS WRONG**. For a especific confidenc interval, the true vakue will rely on the interval qith 100% of prob or will not. We do not know.\n\n* The right way: 96% confidenc level means that taking many samples and computing the confidence interval in the same way 95% of the confidence interval contains the true value.\n\nCases:\n\n1. Easy: The results is NOT statisical significant\n    * The change does nothing. You should decide to iterate of sto the project\n    \n1. Easy: The results is statisical significant\n    * Launch new feature\n\n1. Statistical but not practical significant.\n    * if the cost of launch is large than the benefits, DO NOT launch\n    * if the cost is small or close to zero, just launch\n\n1. Neutral. We need more data to draw a conclusion. If PM wants\n    * You need to increase the sample size.\n    * or test longer\n    * Does not look likes promising. If you have otehr features more promising, test or try that one first\n\n1. Practical significant but not statisical. There is a chance of know effect. \n    * RPEAT THE TEST IOF GREATHER POWER. Looks promise but we are almost certain.\n    \n1. Statistical and pratical. Certainly there is an effect but might not be practical signifcant\n    * REPEAT THE TEST IOF GREATHER POWER. Looks promise but we are almost certain.\n\n<img src=\"../../images/trustworthy_conf_interval.png\" style=\"float:left\" width=\"600\" align=\"right\">"
  },
  {
   "metadata": {},
   "cell_type": "markdown",
   "source": "## Review main products  (TODO: quickly)\n\n\n1. Pay attention in features that I do not use\n1. Give examples on how I will improve\n"
  },
  {
   "metadata": {},
   "cell_type": "markdown",
   "source": "### Facebook\n\n1. timeline \n1. story  <== publish short-clip videos with a duration of 20 seconds at most\n1. Facebook News Feed <== "
  },
  {
   "metadata": {},
   "cell_type": "markdown",
   "source": "### Instagram\n\n1. timeline \n1. \n"
  },
  {
   "metadata": {},
   "cell_type": "markdown",
   "source": "### Whatsapp"
  },
  {
   "metadata": {
    "trusted": false
   },
   "cell_type": "code",
   "source": "",
   "execution_count": null,
   "outputs": []
  },
  {
   "metadata": {},
   "cell_type": "markdown",
   "source": "### Messenger"
  },
  {
   "metadata": {
    "trusted": false
   },
   "cell_type": "code",
   "source": "",
   "execution_count": null,
   "outputs": []
  },
  {
   "metadata": {},
   "cell_type": "markdown",
   "source": "## Based on the channel: Data interview pro\n\n\n* https://www.youtube.com/channel/UCAWsBMQY4KSuOuGODki-l7A\n* \n\n1. Speed up preparation with some tips n tricks\n\n"
  },
  {
   "metadata": {},
   "cell_type": "markdown",
   "source": "### How to cracking the product sense probelms"
  },
  {
   "metadata": {},
   "cell_type": "markdown",
   "source": "#### How you will be evaluated "
  },
  {
   "metadata": {},
   "cell_type": "markdown",
   "source": "The key here is to demonstarde you have a systematic approach so you can get a strong yes.\n\n1. structure\n    * plan\n    * split the probelm in small subproblems \n    \n1. Completeness: \n    * define important metrics  #A they check you ability to define relevant metrics\n    * cover all important apsects of the problem\n    * point out risk and challenges\n    \n1. Feaseabilyt or operationalization\n    * practical \n    * can be aswered with data-driven approach\n    \n    \nThere are 3 types\n\n1. The Applied Data (Diagnose a problem)\n1. Product Interpretation (Measure success)\n1. Launch or Not product\n"
  },
  {
   "metadata": {},
   "cell_type": "markdown",
   "source": "#### Framework: The Applied Data (Diagnose a problem)\n\nGive a metric that went down \n\n* Ex: (04:40) \n    * Face: Creation of Facebook users groups has gone down by 20% what will you do?\n    * Face: How to investigate 10% drop of friend application? \n    * The ETA in the dashboard is up by 3 minutes. How would you investigate this problem? (Lifty or uber question)\n    * Lifty question: What other methods besides user are there to use as your unit of randomization?\n        * by ride, by day of week. <== this is cool\n                \nFramework to solve this kind of problem (05:26)\n\nI group the 6 steps into \n\n1. Ask clarify question\n    * repeat the question with your words to double check your understanding\n    * clarify about the scenario\n        * what is the product\n    * clarify the metrics\n        * E.g: What is ETA? how start and end time is defined?\n        * Is the start time at request or at pick up? make an huge difference\n\n1. Investigate or brainstorm possible reasons (simple to more complex) and how to look into the data to answer those question \n    * How it was the change:\n        * Is the change abrupt? Or the change was slowly? Is it stable and consistent ? or t. It is back to the normal? Is back to a different level?\n        * Is there any changes related to the product and its features recently? Have other products experienced the same or similar impact?\n    * Split in internal vs external causes (based on how it was the change)\n        * Internal source, bug, internal data (missing, outliers, sample size)\n        * external: Seasonality, especial event and competitor, industrial trend, natural disaster.\n    * Split the analysys by\n        * Regions: All regions experienced the drop?\n        * Language\n        * Platform: iOs , amndroid or web app\n    * Decompose the metrics\n        * Crop productio: area * yield\n            * what happenned with the area and what with the yield?\n        * DAU = Existing users + New users + ressurected users -  churned users  \n            \n\n1. Summarize the approach\n    * State the goal of the analysys briefly\n    * Most feasonable cause and why?  (the results of the anlaysys)\n    * How to fix it\n"
  },
  {
   "metadata": {},
   "cell_type": "markdown",
   "source": "#### Framework: Product Interpretation (Measure success) (08:08)\n\nEx:\n\n* How would you measure a success of a product?\n* How would you measure the health of Mentions, Facebook's app for celebreties? How can FB can determine if worthy keep using it or not?\n* Instagram is releasing a new feature. How do you tell is doingwell? (08:33)"
  },
  {
   "metadata": {},
   "cell_type": "markdown",
   "source": "1. Clarify questions \n    * What the product does? How is it used? Who is the audience? (Huge red flag if you not do that)\n    * what is the goal of feature or product? Increase revenue or engament?\n\n1. Define metrics (very important. thi squestion is to test your ability to select the right metrics) NO MORE THAN 3 metrics try to work with 2 only is better\n\n    * 2 success metrics:  (should improve. )\n        * DAU, conversion rate or number of bookings\n    * 1 guardrail metrics:  (should not degrade too much)\n        * cancelation rate, bounce rate or engament\n        \n    * Choose the metrics that fit the context. that is waht they are judging\n    \n    * Prepare for follow up questions: What would you do it if sucess increase 10% but engement dropped 5%?"
  },
  {
   "metadata": {},
   "cell_type": "markdown",
   "source": "#### Launch or Not (11:10)\n\nex:\n\n* FB: How would you decide to launch or not if engement decrease in determined cohort but all the rext increased?\n* Twitter: What would you chage in twitter app? How would you test if the proposed change is effective or not?\n* FB: If the PM whatnt to double the number of ad in Newds feed. How would you test if it is a good idea or not?\n"
  },
  {
   "metadata": {},
   "cell_type": "markdown",
   "source": "1. Clarify goal and metrics?\n\n1. Experimentation\n\n    1. How you would design the experiment\n    1. How to split the users?\n    1. How long to run it?\n\n1. Make a reccommendation  based on the experiment results(12:25)\n\n    * (your answer will only be complet with you do the reccommendation)\n    * How to deal with conflict results: DAU increase but bounce rate decrease\n        *  It represents the percentage of visitors who enter the site and then leave (\"bounce\") rather than continuing to view other pages within the same site.\n\n    * short-term vs long-term impact of the reccommendation. \n        * launch bring more user to the platform\n        * not launch preserve engament or retention"
  },
  {
   "metadata": {
    "heading_collapsed": true
   },
   "cell_type": "markdown",
   "source": "### How to  asnwer how you improve\n\nSummary\n\n1. Define a goal\n1. Brainstiorming some ideas\n1. Prioritize the idea\n1. define how to measure KPI\n1. How to do the experiments\n"
  },
  {
   "metadata": {
    "heading_collapsed": true,
    "hidden": true
   },
   "cell_type": "markdown",
   "source": "#### brainstorm in DS product interview \n\nhttps://youtu.be/JCNsI0TtNGw\n\n\nThe idea is to gather as much as possible idea to decide what to try next"
  },
  {
   "metadata": {
    "heading_collapsed": true,
    "hidden": true
   },
   "cell_type": "markdown",
   "source": "##### Think in the user journey map or path: Get to know, try the product\n"
  },
  {
   "metadata": {
    "hidden": true
   },
   "cell_type": "markdown",
   "source": "\nEx: Improve facebook what is in your mind    \n\n1. Awareness: How many people know this feature? How often it is used? How often people hover over it?\n    \n    1. Is it the area big enough ? increase the size\n    1. Once you login or open the page popup a window with the feature\n    1. send email or notification\n\n<img src=\"images/face_inprove_prod1.png\" style=\"float:left\" width=\"300\" align=\"right\">\n\nNow the user is aware of the feature. Are they using it? \n"
  },
  {
   "metadata": {
    "hidden": true
   },
   "cell_type": "markdown",
   "source": "* Scenario 1: dont know what to say? Spend time in the text or abandoned the post.\n    1. create templates suggestion what to say  (reduce friction)\n        * How I am feeling template\n        * Video / phot template\n        * family/friends templates: special events like birthday or earn a degree\n\n<img src=\"images/face_improve_prod2.png\" style=\"float:left\" width=\"300\" align=\"right\">"
  },
  {
   "metadata": {
    "hidden": true
   },
   "cell_type": "markdown",
   "source": "* Scenario 2: They user start, they know what to say but not how and abadoning the post\n    * send email notification. Hey you have a draft and maybe use the draft plus templates to help him finish the post\n\n* Scenarion3: The user actual write and post\n    1. NOt do do or give him a recognition like congrats or your post was seeing for 1k friends or father like you post he is proud of you.\n"
  },
  {
   "metadata": {
    "heading_collapsed": true,
    "hidden": true
   },
   "cell_type": "markdown",
   "source": "##### Thinking in users group. User segmentation\n"
  },
  {
   "metadata": {
    "hidden": true
   },
   "cell_type": "markdown",
   "source": "* Segment #1:  users never post:\n    * Try to identify reasons.\n    * Maybe for the majority of this class it is because they are elder and they do not see well the components. Increasde the size of the buttom or templates suggestion should work\n    * they might need more detail instructions\n    * they do not have enough friends\n        * send survey to users \n        \n        \n* Segmen #2: havent posted in while. They posted before but stop doing (churn)\n    * They do not have ecough attention? \n    * DO they had negative comments ==> siggest block negative users or filter out negative comments\n    * \n    \n* Segemnt #3: Have itention to post but abadoned\n    * Figure put why? \n        * worry to post is not popular \n        * is too controversial\n        \n    * Solution: Show more controversial post then they have to encourage them to share their post\n    \n    \n* Segment #4: Users that post frequently\n    * Yo want to study them to discover the patterns that make them post\n    * What make them more engaged?\n    * COmpare them with non active users?\n        * Use ML and feature importance to determine why?\n        * study what affecting post based on the model\n    * MOdelling user behavor\n        * decision tree models for feature importance\n        * Characteristics and browser behavor\n    * Certain users are less active\n        * Discover why?\n            * Is it awareness? or friction?\n            * Is it a competitor problem?\n    "
  },
  {
   "metadata": {
    "heading_collapsed": true,
    "hidden": true
   },
   "cell_type": "markdown",
   "source": "##### Prioritizing the ideas\n"
  },
  {
   "metadata": {
    "hidden": true
   },
   "cell_type": "markdown",
   "source": "You do not have enough time to discuss so yu can do quanyitative analysys to select your ideas based on the one that affects most users or bring the most value"
  },
  {
   "metadata": {
    "hidden": true
   },
   "cell_type": "markdown",
   "source": "Ex:\n    \n* 50% Usere never posted  <== start working here if it is feaseble\n* 30% Users abandoned their post (friction problem)\n* 20% Users posted in while\n\n\nOr you can use the most cost-effective: less work for the same impact\n\n* The 30% should be the easiest to improve because they are one-step-away for posting **<=== #A cool** \n"
  },
  {
   "metadata": {},
   "cell_type": "markdown",
   "source": "### Hypothesis testing problem"
  },
  {
   "metadata": {
    "trusted": false
   },
   "cell_type": "code",
   "source": "",
   "execution_count": null,
   "outputs": []
  },
  {
   "metadata": {},
   "cell_type": "markdown",
   "source": "## SQL problem examples  <== move this to train sql for face in anew notebook\n\n\n1. https://medium.com/@deepen.h.panchal/cracking-the-facebook-data-scientist-interview-part-2-cd3a8337c4af\n\n1. https://leetcode.com/problems/human-traffic-of-stadium/"
  },
  {
   "metadata": {
    "trusted": false
   },
   "cell_type": "code",
   "source": "",
   "execution_count": null,
   "outputs": []
  },
  {
   "metadata": {},
   "cell_type": "markdown",
   "source": "## Exercises from glasdoor  (#A TODO)\n\nSolve some recent questions form meta or facebook  \n\n* https://www.glassdoor.com.br/Interview/Meta-Interview-Questions-E40772.htm?countryRedirect=true"
  },
  {
   "metadata": {},
   "cell_type": "markdown",
   "source": "### Over the last 7 days, how many users made more than 10 searches?\n\n23 de abr. de 2021\n\n* question and one answer: https://www.glassdoor.com.br/Entrevista/Given-the-following-data-Table-searches-Columns-date-STRING-date-of-the-search-search-id-QTN_4410997.htm"
  },
  {
   "metadata": {},
   "cell_type": "markdown",
   "source": "```text\nGiven the following data:\n\nTable:\nsearches\nColumns:\ndate STRING date of the search,\nsearch_id INT the unique identifier of each search,\nuser_id INT the unique identifier of the searcher,\nage_group STRING ('<30', '30-50', '50+'),\nsearch_query STRING the text of the search query\n\nSample Rows:\ndate | search_id | user_id | age_group | search_query\n--------------------------------------------------------------------\n'2020-01-01' | 101 | 9991 | '<30' | 'justin bieber'\n'2020-01-01' | 102 | 9991 | '<30' | 'menlo park'\n'2020-01-01' | 103 | 5555 | '30-50' | 'john'\n'2020-01-01' | 104 | 1234 | '50+' | 'funny cats'\n\n\nTable:\nsearch_results\nColumns:\ndate STRING date of the search action,\nsearch_id INT the unique identifier of each search,\nresult_id INT the unique identifier of the result,\nresult_type STRING (page, event, group, person, post, etc.),\nclicked BOOLEAN did the user click on the result?\n\nSample Rows:\ndate | search_id | result_id | result_type | clicked\n--------------------------------------------------------------------\n'2020-01-01' | 101 | 1001 | 'page' | TRUE\n'2020-01-01' | 101 | 1002 | 'event' | FALSE\n'2020-01-01' | 101 | 1003 | 'event' | FALSE\n'2020-01-01' | 101 | 1004 | 'group' | FALSE\n\n\nOver the last 7 days, how many users made more than 10 searches?\n```"
  },
  {
   "metadata": {
    "trusted": false
   },
   "cell_type": "code",
   "source": "",
   "execution_count": null,
   "outputs": []
  },
  {
   "metadata": {},
   "cell_type": "markdown",
   "source": "### You notice that the number of users that clicked on a search result\nabout a Facebook Event increased 10% week-over-week. How would you\ninvestigate? How do you decide if this is a good thing or a bad thing?\n\nhttps://www.glassdoor.com.br/Entrevista/Given-the-following-data-Table-searches-Columns-date-STRING-date-of-the-search-search-id-QTN_4410997.htm"
  },
  {
   "metadata": {
    "trusted": false
   },
   "cell_type": "code",
   "source": "",
   "execution_count": null,
   "outputs": []
  },
  {
   "metadata": {},
   "cell_type": "markdown",
   "source": "### Which features make us realise that a user is a returning one?\n\n28 de dez. de 2021\n\nhttps://www.glassdoor.com.br/Entrevista/Meta-Data-Scientist-Perguntas-entrevista-EI_IE40772.0,4_KO5,19.htm?filter.jobTitleFTS=Data+Scientist"
  },
  {
   "metadata": {
    "trusted": false
   },
   "cell_type": "code",
   "source": "",
   "execution_count": null,
   "outputs": []
  },
  {
   "metadata": {},
   "cell_type": "markdown",
   "source": "### Count the number of users for each disable_reason in the past 7 days?\n\n28 de dez. de 2021\n\nhttps://www.glassdoor.com.br/Entrevista/Meta-Data-Scientist-Perguntas-entrevista-EI_IE40772.0,4_KO5,19.htm?filter.jobTitleFTS=Data+Scientist\n\n```text\nTable 1: users_disabled: user_id (int), disabled_reason (string), date(string)\nTable 2: actors: user_id1(int), user_id2(int), probability_of_same_user(double)\n```\n"
  },
  {
   "metadata": {
    "trusted": false
   },
   "cell_type": "code",
   "source": "",
   "execution_count": null,
   "outputs": []
  },
  {
   "metadata": {},
   "cell_type": "markdown",
   "source": "### how many unique conversation threads are there ?\n\n3 jan. de 2022\n\n```text\ngiven a table massenger_sends,\ndate | ts | sender_id | receiver_id| message_id | has_reaction\n\nPS: note that there are threads that sender_id and receiver is inverse. this should be one thread\n\n```\n"
  },
  {
   "metadata": {
    "trusted": false
   },
   "cell_type": "code",
   "source": "",
   "execution_count": null,
   "outputs": []
  },
  {
   "metadata": {},
   "cell_type": "markdown",
   "source": "### How would you measure the health of Mentions, Facebook's app for celebreties? How can FB can determine if worthy keep using it or not?\n\n\nIf a celebrity starts to use Mentions and begins interacting with their fans more, what part of the increase can be attributed to a celebrity using Mentions, and what part is just a celebrity wanting to get more involved in fan engagement?"
  },
  {
   "metadata": {
    "trusted": false
   },
   "cell_type": "code",
   "source": "",
   "execution_count": null,
   "outputs": []
  },
  {
   "metadata": {},
   "cell_type": "markdown",
   "source": "## Mock interview on youtube;"
  },
  {
   "metadata": {
    "heading_collapsed": true
   },
   "cell_type": "markdown",
   "source": "### PM mocked interview at Facebook: How would you design a product around movies for Facebook  \n\n**TODO:** Take notes\n\n* https://www.youtube.com/watch?v=se6Soyi2k0Uhttps://www.youtube.com/watch?v=se6Soyi2k0U\n* Celena Tyler PM at Facebook\n\n\nI Like her approach and feel is close the way I do"
  },
  {
   "metadata": {
    "hidden": true
   },
   "cell_type": "markdown",
   "source": "1. Understand the problem\n\n    1. Clarify question: \n        1. Is this product existing inthe Facebook app or is something that I can add into the app\n            * No constraint \n        1. Is there any restriction about hardware. Portable is a big bet for Facebook. No contraint\n    1. State her struture: The way I like to go about this\n        1. First talk about Facebook mission and strategy and why he might be interesting on develope a movie product\n        1. Customers (She defined the target user)\n            1. Customers segmentations: creators (profesional vs non professionals indie movies) vs viewers (heavy usage not usae at all)\n            1. Prioritize and justify your choice    \n        1. Pain points and needs \n            1. Quick Brainstorm about pain points and needs\n            1. Prioritize some of those pain points or needs (Pick one based on impact and simplicity)> It is important to justify\n        1. Soluiton\n            1. Come up with feel solutions\n            1. Define a metric to assess success\n            1. Prioritize with mvp\n       \n        1. Mvp solutoin\n        \n        \n**She constantly ask to write down her notes/points to organize clarify her thougths**\n        \nHer anwers\n\n1. \n"
  },
  {
   "metadata": {},
   "cell_type": "markdown",
   "source": "### PM mocked interview with PM at Facebook: Design a social feature for a popular video service of a big tech \n\nhttps://www.youtube.com/watch?v=vElDe8Y0GxE"
  },
  {
   "metadata": {},
   "cell_type": "markdown",
   "source": "1. Understand the problem\n    \n    * Mentioned to type of video and asked which direction the interweer wanna go\n        1. Heavy contens like Netflix\n        1. User generated Contents UGC\n        \n    * The interviewer let him choose. He explain that for heavy contents we dont care to much how social (interviewer notes: \"he doesnt want to go social in prfessional contents, he wants to try somethings thathasnt done before\") is the services we are more interesting in the quality of the contents. because of that he decide to go with UGC and he pick up a service like Youtube that is the largest service of this type in terms of #users\n    \n1. He stated the mission (start defining his goal)\n    *  Statet core metrics (North star): He mention that he forgot the excatly youtibe mission but should be something around \"How to provide useful contents to keep users engaged\"\n    \n    * He state the metrics: \"How to we use social as a way to engage people with the contents on youtube\"\n    \n    * He said I personally use youtube for 3 reasons:\n        1. entreternaiment  => jimmy cammel\n        1. news update => during presendential race\n        1. learning +. whether or not is math, calculus, dancing, cooking and etc\n    * he asked himself: which one o this cases can increase the value (engagement of sellers) if there is a social asect with it\n    \n    * interviewer notes:: \"He forgot to state the struture of his answer , but he thoughs are clear enough. Also he checkin-in if the interviewer is still following. He hasnt lost the interviewer\"\n    \n    * While checked the interviewer, he mentio how this is sounding to you. The interviewer asked him question to clarify the understanding of seller? He replied that he was thinking of creators (market place prokect biased him)\n    \n    * he clarifies better. Tere 2 sides of youtube, creators and viewers , like in market pace buyers and sellers. He changed how to make viewer experience more easy engaged\n    \n    * he meantioned pareto and that there are a way more viewers than creators (interviewer: engagement lift which is the majority of the users)  (This should be a discussion of user segments or cases)\n    \n    * he so went ot be more especific. How can we make learning experinece on youtube more engagement. His justfocation is that learning inngroups can be more motivated and make easier to learn something knew\n    \n    * He was asked how to define sucess on this. But he start rephraming the quesion and think about the pain points/needs of the viewers  (Brainstorming ideas)\n        * The first point of improve is there are so many videos out there for a single topic. How the users can know which one is the best video? Most relevant to me? here is a better way to discover most relevant video of lagrange sereie\n        * 2nd point of improvements is watching a solo videos we do not have any feedback, if another person has a similar question or if someone raise a different question that we were not thinking about it. There is no such of experience on that. \n        \n        * 3rd point of improvement: If he started watching the video, I do not have any evidence of the outcome of the video , if that videos is going to work for me or not (ther is no video summary, descriptionor a better way)\n        \n        * 4th point of improvements there is no gamification. Like motivation for me keep going and watching the video \n\n    * he said If I have to prioritize in terms of which of the pain points happened more often and which one has the biggest gap (has an huge effort to implement it) and which one brings the most impact\n    \n    * he starting thinking in how the social feature can help on those pain points list\n        * the right contents he said that is ML problem how to build better algo. He doens see social bring value to this\n        * He mention live learning experience should be hard to implement \n        \n        * He is thinking in probably go with some gamification idea or how to use social to make sure the viewer qill reach the desired outcome \n        \n        * he move to this idea of treat/ provide a solution to the 3rd item. Someone trying to cook something\n            \n        * he mention as example, the tik tok dancing tutorial. Now everyone thinks they can do it. He showed excitment about that, while explaining that in the sun everyone is trying to the tutorial and sharing ith others with the original tutorial (haf screen) and his performancing (the other half screen). Demonstrate passion about what he does\n        \n    * He moved in designing the features byu enumerate possibles solutions \n    \n        * He prompt that the easiest solution should be make viewers share their learnings or output (cooking shoe him/her preparing the receipt for instance) \"\"hay share you success\". When you finish the video, show your testimonial, or do a post about the topic. This can help other to understand what you are going to accomplish because you can add a gallery on the bottom providing thos testmonials or viewers that share that actual cokked the recipe and successful they were\n        \n        * he mention how to make easier for viewers to share their progress while they are wtaching the video\n        \n        * A way to make easieir for viewer do hey this is my version of the Famous cooker video or may way to do the same thing. He provide that example: \"Hey this the way kento did this chicken teriak and made that too\"\n        \n        * He summarize that we already have some goods and easy to implement ideas, like:\n        \n            1. post,\n            1. share snapshot of the progress\n            1. re mix contents\n            \n        * he mention that the second options are not much compelling, but if he have 1 year he would go with the 3rd option, but if he has 5 months he would go eith the 2nd option\n        \n    * The interviewer asked how you would measure siccess on this product \n    \n        * he meniton he was thinking about the funnel: \n            1. how many get aware of the new feature\n            1. how many start using the features\n            1. How many finished the producing there remix version\n            1. As measure of video qa hoe many users watch at least 30 seconds of the video and etc\n            \n    * He was asked about if this approach can be scalable for other contents (can be applied oto ther contents)\n    \n        * he mention everything that is based on repeat a sequence of process like fixing a car, cooking, wood working can use this new feature.\n        * he also mention that the largets contents of youtibe is entertenament and this can be used to mmic comeon or character like they do on tiktok "
  },
  {
   "metadata": {},
   "cell_type": "markdown",
   "source": "### Mocked Interview: How to measure engagement  (20 minutes the product question to answer)\n\nDan Lee\nMea Candidate\n\nhttps://www.youtube.com/watch?v=eDhnr4aGROU\n\n\nThe product: https://about.facebook.com/technologies/portal/ \n\ndevice that can do video calls with smart ai and work with alexia"
  },
  {
   "metadata": {},
   "cell_type": "markdown",
   "source": "* Candidate: \n    * I have clarify questions. What is the purpose of measure engagement in the Meta's Portal device\n    * And how this is related to Facebook mission or business goal?\n* Intewrviewer: Measure if users are wheteher or not users are using portal? Measure if users are engaed with this device.\n* Candidate: Just make sure I undertand the product. Portal is a hardware product tha enable user to have \n    * videos calls with hig audio and video quality, \n    * and has integrated with alexia\n    * able to watch news\n    * schedule reminders\n    * play music in the portal\n    * is there any other feature I should be aware about this product?\n\n* Interviewer: It cover everything\n* Candidate: Mentin let me first talk about why engaement is important.\n    * Facebook mission is to power community and connect people\n    * This product can be one more way that user can engafge with Meta Plattforms\n\n> PS: Framework to confirm the product:\n> 1. Describe the big picture product\n> 1. Mention important features you know\n> 1. Ask if there are any other features that is important to be aware with?\n\n* Candidate asked this clarify question, that we are talking about users has already bought the device. (Naivy)\n* Candidate start to solve the questions but also writting bullets points of wahts he is saying or thinkinging (he has a strong accent as well)\n\n* Candidate mention metrics \n\n    * Awarenes skiped  (The user already have the device)\n    * Activation:\n        * how many has logging on portal\n        * #video calls\n        * #reminders set on the device\n        * #watch news, videos or music\n\n    * Retention\n        * DAU/WAU/MAU (tells percentage of users that is using dailly)\n            * to define active. Ex: look into the frequecny an user watch an video dailly and if it is  2- 3 time a day. we can look into 1 or 2 week window\n        * ratio DAU/WAU (stickness. hoe many users come back after 1 or 2 weeks)\n        \n    * Revenue (He skiped Referral he is not measuring this)\n        * Explani if the usera are spending more time on portal, this is a opportunity to display more ads or embedding sponsors contents and profit more\n        * ~~avg $$ per user~~ (to vague) e repharse for: avg $ ad revenuew per user\n        * CLT (customer Life time value) for me is LTV (Life time value is good for subscription)\n        \n        \n* Candidated asked if there is any bucket he wants him to talk about it?\n\n* Interviewer: You cover basic everything. Can you come up an prioritize nay of this metrics? Suppose that I need to create some sort of dashboards\n    * executive of the portal and hardware department. Pick up 3 metrics and rank for the most important to leats important metric\n    * primary 3 metrics\n    * audoence: exdcutives\n    \n* Candidate: Let me reframe the question to make sure I understood it correctly\n\n* Candidate: (**He always provide a brief jsutification for what he is choosing**)\n\n    * ~~video call time in hours per month~~ he changed for time spent on portal (engament)\n    * total #videos call per month because the main feature of portal is video calls (engagement in the main feature)\n    * Ads revenuew per month (monetization)\n\n* Candidate: Ask about direction on how Ads are embedding on portals\n\n* INterviewer: Lets forgot about. Lets pretent there is NO ads on portal. Can you think about another metric of engaments to replace the monetizatrion metric?\n\n> PS: How to read srtickess: 25% stickiness is “of the people who log into my product at least once a month, one in four of them will log in on any given day.\n\n* Interviewer: Ask to rank the metrics\n\n* Candidate:\n\n    1. DAU/WAU\n    1. time spent on portal\n    1. total #video calls\n\n\n* Interviewer (18minutes): new question. Suppose a new features was added to Portal. suggest calls to users. How would you would design an AB experiment on this feature\n\n* Candidate: Wants to start by defining sucess metrics \n\n    1. success: avg #calls per user (suggested calls made ? nt sure !?)\n        * He mention later guardial rails metric: time spent on portals \n    1. STate the ABhypothesis\n        * H0: avg is the same; Ha the avg is different. Wouldnt be better to define Ha: bigger\n    1. Define statitcs parameters: \n        1. significancy level, \n        1. Power,\n        1. MDE (minimum detectable effect)\n        1. randomization unit: (users, ip, session, ...) for this case would be customer who owner a Portal device\n        1. experimentation time: at least more than 2 weeks, because of wekky seaonality. user doing calls more during the **weekend or holidays** instead of non weekends. \n        1. after gathering the data. He wil check if pvalue < alpha so he reject H0\n        \n    1. AFter interviewre asked if he wants to add details in any of the points. He added that he also wants to add sanity checks like. \n        1. Make sure the samples are independent\n        1. do study ig holidays and weekends  efect\n        1. check novelty effect. because is new works temporarlilly and then the effect disapear\n        \n* INterviewer: What if this changes was made during the christmas weekend\n* Candidate:\n    * the results can be inflated or optmistic. Christmas can affect the mood of the usres. Naturally there are more users calling each other during this time and can completely bias the experiment. They should get more data in a different time and extend the window"
  },
  {
   "metadata": {
    "heading_collapsed": true
   },
   "cell_type": "markdown",
   "source": "### Mocked interview: Churn question  (#A TODO)\n\nhttps://youtu.be/4MWOXXLxSb4\n\n1. Take notes about his answer\n1. Asnwer The SQL question \n    \n    \n```text\n\nAssume users are considered churn if they havent displayed any activity behavor: read, comment, like and post in the  past 7-days. How many have churned as of today? Use table bellow.\n\n   table: usage\n   | timestamp        | user_id  | activity |\n   |------------------+----------+----------|\n   | 2021-02-01 03:42 | @lax_max | read     |\n   | 2021-02-01 09:42 | @KChris  | comment  |\n   | 2021-02-04 02:42 | @PhotoRX | sign-in  |\n   | 2021-02-02 02:42 | @BobDoe  | post     |\n   | ...              | ...      | ..       |\n   |------------------+----------+----------|\n\n\n```"
  },
  {
   "metadata": {},
   "cell_type": "markdown",
   "source": "## Quantitative analysys\n\nhttps://towardsdatascience.com/the-facebook-data-science-product-analytics-interview-852e50ded966\n\nEx:\n    \nhttps://towardsdatascience.com/the-facebook-data-science-product-analytics-interview-852e50ded966\n    "
  },
  {
   "metadata": {
    "trusted": false
   },
   "cell_type": "code",
   "source": "",
   "execution_count": null,
   "outputs": []
  }
 ],
 "metadata": {
  "kernelspec": {
   "name": "python3",
   "display_name": "Python 3",
   "language": "python"
  },
  "language_info": {
   "name": "python",
   "version": "3.10.4",
   "mimetype": "text/x-python",
   "codemirror_mode": {
    "name": "ipython",
    "version": 3
   },
   "pygments_lexer": "ipython3",
   "nbconvert_exporter": "python",
   "file_extension": ".py"
  },
  "toc": {
   "base_numbering": 1,
   "nav_menu": {},
   "number_sections": true,
   "sideBar": true,
   "skip_h1_title": true,
   "title_cell": "Table of Contents",
   "title_sidebar": "Contents",
   "toc_cell": false,
   "toc_position": {
    "height": "calc(100% - 180px)",
    "left": "10px",
    "top": "150px",
    "width": "295.594px"
   },
   "toc_section_display": true,
   "toc_window_display": true
  }
 },
 "nbformat": 4,
 "nbformat_minor": 4
}
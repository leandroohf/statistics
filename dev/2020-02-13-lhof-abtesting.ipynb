{
 "cells": [
  {
   "cell_type": "markdown",
   "metadata": {},
   "source": [
    "\n",
    "# Hypothesis testing"
   ]
  },
  {
   "cell_type": "markdown",
   "metadata": {},
   "source": [
    "1. Where it is used \n",
    "\n",
    "Hypotheis testing is wide used in medical reserach and industries. Is one of the powerfull way to test your ideas and take data-drive decisions. This method is used to test a new treament, test efficacy of vaccines, prostate cance test, access the quality of machine product and etc. Definely is something that a data scientist must know and use.  \n",
    "\n",
    "1. what ?\n",
    "\n",
    "1. Value change \n",
    "\n",
    "\n",
    "1. What can affect hypothesis testing\n",
    "\n",
    "1. Give an example (redundant with where)\n",
    "\n"
   ]
  },
  {
   "cell_type": "markdown",
   "metadata": {},
   "source": [
    "## Recipe"
   ]
  },
  {
   "cell_type": "code",
   "execution_count": null,
   "metadata": {},
   "outputs": [],
   "source": []
  },
  {
   "cell_type": "markdown",
   "metadata": {},
   "source": [
    "## P-value"
   ]
  },
  {
   "cell_type": "code",
   "execution_count": null,
   "metadata": {},
   "outputs": [],
   "source": []
  },
  {
   "cell_type": "markdown",
   "metadata": {},
   "source": [
    "## Confidence Interval"
   ]
  },
  {
   "cell_type": "markdown",
   "metadata": {},
   "source": [
    "* 95% Confident interval is range where if you condiuct many studies 95% of the time the true mean value of the population will be in the range. (Needs to improve it) \n",
    "\n",
    "* Confidence interval also gives you a measure of the uncertainty on the observable sample mean.\n",
    "    * If is too high, it is reccommended to repeat the test with greather Power\n",
    "\n",
    "We can reject the HO (null hypothesis) by either pvalue or confidence interval. **If the confidence interval cross the zero mean the test is not significant.**\n",
    "\n",
    "\n",
    ">PS: In parametric test both methods always agree except for boostrap hypothesis testing that sometimes the methods disagree\n",
    "\n",
    "<img src=\"../images/pvalue_n_confidence_interval.png\" style=\"float:left\" width=\"500\" align=\"right\">   "
   ]
  },
  {
   "cell_type": "markdown",
   "metadata": {},
   "source": [
    "## Power"
   ]
  },
  {
   "cell_type": "markdown",
   "metadata": {},
   "source": [
    "* Power is the probability of reject H0 given Ha is true or,\n",
    "* It is the probability to detect an effect when it is present\n",
    "* It is related with FN (Type II error): $Power = 1- FP$.\n",
    "\n",
    "\n",
    "We want to design hyopthesis testing with higher power. Higher is the power better is the quality of the test and smaller is the effect we can detect. \n",
    "\n",
    "Power depends os many factors\n",
    "1. the effect size (out side of control). We can adjust power for the minimum effect size we want to be able to detect.\n",
    "\n",
    "1. Geometric interpretation:\n",
    "    * Overlap area of H0 and Ha distribution is inverse proportional to Power \n",
    "        * The overlap is proportional to effect size d and,\n",
    "        * Can increase with the variance of the distributions\n",
    "        \n",
    "1. What can affect the Power\n",
    "    1. Sample size: big increase Power\n",
    "    1. effect size: big increase Power. But we do not have control Is not actionable. Is the thing you are measuring\n",
    "    1. The significance level $\\alpha$: small decrease Power by keeping all rest constant\n",
    "\n",
    "<img src=\"../images/low_vs_hig_power_same_effect_size.gif\" style=\"float:left\" width=\"600\" align=\"right\">   "
   ]
  },
  {
   "cell_type": "markdown",
   "metadata": {},
   "source": [
    "### How to compute power for z-test"
   ]
  },
  {
   "cell_type": "markdown",
   "metadata": {},
   "source": [
    "**Remembering:**\n",
    "\n",
    "$\n",
    "z \\sim N(0,1ˆ2) \\to \\phi(z) = \\frac{e^{1/2zˆ2/\\sigma^2}}{\\sqrt{2\\pi}}\\\\ \n",
    "$\n",
    "\n",
    "where $\\phi$ is the standart distribution. The cumulative distribution function is define as:\n",
    "\n",
    "$\n",
    "\\Phi(z) = \\int_{-\\infty}^z \\phi(t) dt \\\\\n",
    "$\n",
    "\n",
    "<img src=\"../images/cumulative_standart_distribution.png\" style=\"float:left\" width=\"600\" align=\"right\">   "
   ]
  },
  {
   "cell_type": "markdown",
   "metadata": {},
   "source": [
    "**By definition:**\n",
    "\n",
    "$\n",
    "P(\\textrm{reject H0|Ha=True}) =  P(\\textrm{reject H0}|\\mu=\\mu_a) \\textrm{ <= by definition} \\\\\n",
    "$\n",
    "\n",
    "We reject H0 when the observed sample mean $x > x^*$ is greather than the critical vakue $x^*$.  \n",
    "\n",
    "Determining the standardized critical value:\n",
    "\n",
    "$\n",
    "\\frac{x^{*}- \\mu_0}{\\sigma/\\sqrt{n}} \\ge z_{\\alpha/2}\n",
    "$\n",
    "\n",
    "Isolating for critical value $x^*$\n",
    "\n",
    "$\n",
    "x^* = z_{\\alpha/2}\\sigma/\\sqrt{n} + \\mu_0 \\\\\n",
    "$\n",
    "\n",
    "We can re write the power equation as:\n",
    "\n",
    "$\n",
    "Power = P(x > x^{*}| \\mu = \\mu_a) \\\\\n",
    "P( x > \\frac{\\bar{x} - \\mu_0}{\\sigma/\\sqrt{n}} |\\mu=\\mu_a) \\\\\n",
    "$\n",
    "\n",
    "<img src=\"../images/power1.jpg\" style=\"float:left\" width=\"600\" align=\"right\">   "
   ]
  },
  {
   "cell_type": "markdown",
   "metadata": {},
   "source": [
    "Since we assume $Ha: true$ and because of the central limit theorem $P(x> x^*| \\mu = \\mu_a) \\sim N(\\mu_a, \\sigma^2/n)$. Lets standardize this distribution function.\n",
    "\n",
    "$\n",
    "Power = P(z > z^{*}| \\mu = \\mu_a) \\\\\n",
    "$\n",
    "\n",
    "where $z^{*} = \\frac{x^{*} - \\mu_a}{\\sigma/\\sqrt{n}}$\n",
    "\n",
    "$\n",
    "Power = P(z > \\frac{x^{*} - \\mu_a}{\\sigma/\\sqrt{n}} | \\mu = \\mu_a) \\\\\n",
    " = P(z > \\frac{ z_{\\alpha/2}\\sigma/\\sqrt{n} + \\mu_0- \\mu_a}{\\sigma/\\sqrt{n}} | \\mu = \\mu_a) \\\\\n",
    " = P(z >  z_{\\alpha/2} - \\frac{\\mu_a- \\mu_0}{\\sigma/\\sqrt{n}} | \\mu = \\mu_a) \\sim N(0,1) \\\\\n",
    "$\n",
    "\n",
    "Using the fact that $P(z > z^*) = 1.0 - P(z < z^*)$ ($p + q = 1$).\n",
    "\n",
    "$\n",
    "Power = 1.0 - P(z <  z_{\\alpha/2} - \\frac{\\mu_a- \\mu_0}{\\sigma/\\sqrt{n}} | \\mu = \\mu_a)  \\\\\n",
    "$\n",
    "\n",
    "The left bottom distribution in the image above shows us that we can rewrite the last equation in terms of the cumulative distribution function (cdf) $\\Phi(z)$ as:\n",
    "\n",
    "$\n",
    "\\Phi(z) = P(z > z^*) \\\\ \n",
    "z^* = z_{\\alpha/2} - \\frac{\\mu_a- \\mu_0}{\\sigma/\\sqrt{n}} \\\\\n",
    "Power = 1 - \\Phi(z^*) \\\\ \n",
    " = 1 - \\Phi(z_{\\alpha/2} - \\frac{\\mu_a - \\mu_0}{\\sigma/\\sqrt{n}})\n",
    "$\n"
   ]
  },
  {
   "cell_type": "markdown",
   "metadata": {},
   "source": [
    "## AB testing\n",
    "\n",
    "\n",
    "**WIP**\n",
    "\n",
    "video abut baysian rule with very good explanation why not always P(A n B) is equal to P(A)*P(B)\n",
    "* https://www.youtube.com/watch?v=U_85TaXbeIo\n",
    "\n",
    "\n",
    "See this peeking problem:\n",
    "\n",
    "https://codeascraft.com/2018/10/03/how-etsy-handles-peeking-in-a-b-testing/\n",
    "\n",
    "https://medium.com/@SkyscannerEng/the-fourth-ghost-of-experimentation-peeking-b33890dcd3de"
   ]
  },
  {
   "cell_type": "markdown",
   "metadata": {},
   "source": [
    "$\n",
    "P(X | \\theta) = \\frac{P(\\theta | X)P(X)}{P(\\theta)} \\nonumber\n",
    "$\n",
    "\n",
    "* Posteriori: $P(X|\\theta)$\n",
    "* Likelihood: $P(\\theta|X)$\n",
    "* Priori: $P(\\theta)$\n",
    "* Evidence: $P(X)$\n"
   ]
  },
  {
   "cell_type": "markdown",
   "metadata": {},
   "source": [
    "## Motivations\n",
    "\n",
    "1. You can ran experiment until you reach a conclusion\n",
    "\n",
    "Frequentist approach you need to collect all the data first and then run the hyptheosesi test. In this approach you start the experiment and stop wkhen you reach the conclusion. This save a lot of cost\n",
    "\n",
    "If you keep the traffic of the loosing version , basically you are wasting money if thos version with lower conversion rate"
   ]
  },
  {
   "cell_type": "markdown",
   "metadata": {},
   "source": [
    "## Commom problems in AB testing in general\n",
    "\n",
    "\n",
    "1. We did not collect enought data\n",
    "1. Your smaple can have some bias introduced in the experiment. \n",
    "\n",
    "Some bias has been introduced in the experiment so that test/control people are not really random. (Common simpson paradox: berkeley accepted ratio: Woman vs man but you have to split the test by department because of the difference of acceptance rate (6% - 60%) If womans are applying more to low acceptance rate departments? This affect the test)\n",
    "\n",
    "1. Seasonality can affect the results\n",
    "\n",
    "    * chrismas\n",
    "    * black friday\n",
    "    * boxing day "
   ]
  },
  {
   "cell_type": "markdown",
   "metadata": {},
   "source": [
    "\n",
    "## Beta distributions\n",
    "\n",
    "\n",
    "Use Beta dist: Beta(a,b) = f(p;a,b)\n",
    "* p: is the prob or CR convert rate\n",
    "* a:b: is the odds 2:3 2 em 3 means p = 2/5 = 0.4 CR\n",
    "* mean is the observable CR\n",
    "\n",
    "\n",
    "* Useful properties: \n",
    "    \n",
    "$\n",
    "Beta(a,b)*Beta(c,d) = Beta(a+c,b=d)\n",
    "$\n",
    "\n",
    "\n",
    "<img src=\"../images/beta_distribution_pdf.png\" height=\"400\" width=\"400\">"
   ]
  },
  {
   "cell_type": "code",
   "execution_count": 4,
   "metadata": {},
   "outputs": [
    {
     "name": "stdout",
     "output_type": "stream",
     "text": [
      "beta_distribution_pdf.png\r\n"
     ]
    }
   ],
   "source": [
    "!ls ../images/"
   ]
  },
  {
   "cell_type": "code",
   "execution_count": null,
   "metadata": {},
   "outputs": [],
   "source": []
  }
 ],
 "metadata": {
  "kernelspec": {
   "display_name": "Python 3",
   "language": "python",
   "name": "python3"
  },
  "language_info": {
   "codemirror_mode": {
    "name": "ipython",
    "version": 3
   },
   "file_extension": ".py",
   "mimetype": "text/x-python",
   "name": "python",
   "nbconvert_exporter": "python",
   "pygments_lexer": "ipython3",
   "version": "3.7.6"
  },
  "latex_envs": {
   "LaTeX_envs_menu_present": true,
   "autoclose": false,
   "autocomplete": true,
   "bibliofile": "biblio.bib",
   "cite_by": "apalike",
   "current_citInitial": 1,
   "eqLabelWithNumbers": true,
   "eqNumInitial": 1,
   "hotkeys": {
    "equation": "Ctrl-E",
    "itemize": "Ctrl-I"
   },
   "labels_anchors": false,
   "latex_user_defs": false,
   "report_style_numbering": false,
   "user_envs_cfg": false
  },
  "toc": {
   "base_numbering": 1,
   "nav_menu": {},
   "number_sections": true,
   "sideBar": true,
   "skip_h1_title": false,
   "title_cell": "Table of Contents",
   "title_sidebar": "Contents",
   "toc_cell": false,
   "toc_position": {},
   "toc_section_display": true,
   "toc_window_display": true
  }
 },
 "nbformat": 4,
 "nbformat_minor": 2
}

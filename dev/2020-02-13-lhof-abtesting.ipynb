{
 "cells": [
  {
   "cell_type": "markdown",
   "metadata": {},
   "source": [
    "## AB testing\n",
    "\n",
    "\n",
    "**WIP**\n",
    "\n",
    "video abut baysian rule with very good explanation why not always P(A n B) is equal to P(A)*P(B)\n",
    "* https://www.youtube.com/watch?v=U_85TaXbeIo\n",
    "\n",
    "\n",
    "See this peeking problem:\n",
    "\n",
    "https://codeascraft.com/2018/10/03/how-etsy-handles-peeking-in-a-b-testing/\n",
    "\n",
    "https://medium.com/@SkyscannerEng/the-fourth-ghost-of-experimentation-peeking-b33890dcd3de"
   ]
  },
  {
   "cell_type": "markdown",
   "metadata": {},
   "source": [
    "$\n",
    "P(X | \\theta) = \\frac{P(\\theta | X)P(X)}{P(\\theta)} \\nonumber\n",
    "$\n",
    "\n",
    "* Posteriori: $P(X|\\theta)$\n",
    "* Likelihood: $P(\\theta|X)$\n",
    "* Priori: $P(\\theta)$\n",
    "* Evidence: $P(X)$\n"
   ]
  },
  {
   "cell_type": "markdown",
   "metadata": {},
   "source": [
    "## Motivations\n",
    "\n",
    "1. You can ran experiment until you reach a conclusion\n",
    "\n",
    "Frequentist approach you need to collect all the data first and then run the hyptheosesi test. In this approach you start the experiment and stop wkhen you reach the conclusion. This save a lot of cost\n",
    "\n",
    "If you keep the traffic of the loosing version , basically you are wasting money if thos version with lower conversion rate"
   ]
  },
  {
   "cell_type": "markdown",
   "metadata": {},
   "source": [
    "## Commom problems in AB testing in general\n",
    "\n",
    "\n",
    "1. We did not collect enought data\n",
    "1. Your smaple can have some bias introduced in the experiment. \n",
    "\n",
    "Some bias has been introduced in the experiment so that test/control people are not really random. (Common simpson paradox: berkeley accepted ratio: Woman vs man but you have to split the test by department because of the difference of acceptance rate (6% - 60%) If womans are applying more to low acceptance rate departments? This affect the test)\n",
    "\n",
    "1. Seasonality can affect the results\n",
    "\n",
    "    * chrismas\n",
    "    * black friday\n",
    "    * boxing day "
   ]
  },
  {
   "cell_type": "markdown",
   "metadata": {},
   "source": [
    "\n",
    "## Beta distributions\n",
    "\n",
    "\n",
    "Use Beta dist: Beta(a,b) = f(p;a,b)\n",
    "* p: is the prob or CR convert rate\n",
    "* a:b: is the odds 2:3 2 em 3 means p = 2/5 = 0.4 CR\n",
    "* mean is the observable CR\n",
    "\n",
    "\n",
    "* Useful properties: \n",
    "    \n",
    "$\n",
    "Beta(a,b)*Beta(c,d) = Beta(a+c,b=d)\n",
    "$\n",
    "\n",
    "\n",
    "<img src=\"../images/beta_distribution_pdf.png\" height=\"400\" width=\"400\">"
   ]
  },
  {
   "cell_type": "code",
   "execution_count": 4,
   "metadata": {},
   "outputs": [
    {
     "name": "stdout",
     "output_type": "stream",
     "text": [
      "beta_distribution_pdf.png\r\n"
     ]
    }
   ],
   "source": [
    "!ls ../images/"
   ]
  },
  {
   "cell_type": "code",
   "execution_count": null,
   "metadata": {},
   "outputs": [],
   "source": []
  }
 ],
 "metadata": {
  "kernelspec": {
   "display_name": "Python 3",
   "language": "python",
   "name": "python3"
  },
  "language_info": {
   "codemirror_mode": {
    "name": "ipython",
    "version": 3
   },
   "file_extension": ".py",
   "mimetype": "text/x-python",
   "name": "python",
   "nbconvert_exporter": "python",
   "pygments_lexer": "ipython3",
   "version": "3.9.5"
  },
  "latex_envs": {
   "LaTeX_envs_menu_present": true,
   "autoclose": false,
   "autocomplete": true,
   "bibliofile": "biblio.bib",
   "cite_by": "apalike",
   "current_citInitial": 1,
   "eqLabelWithNumbers": true,
   "eqNumInitial": 1,
   "hotkeys": {
    "equation": "Ctrl-E",
    "itemize": "Ctrl-I"
   },
   "labels_anchors": false,
   "latex_user_defs": false,
   "report_style_numbering": false,
   "user_envs_cfg": false
  },
  "toc": {
   "base_numbering": 1,
   "nav_menu": {},
   "number_sections": true,
   "sideBar": true,
   "skip_h1_title": false,
   "title_cell": "Table of Contents",
   "title_sidebar": "Contents",
   "toc_cell": false,
   "toc_position": {},
   "toc_section_display": true,
   "toc_window_display": false
  }
 },
 "nbformat": 4,
 "nbformat_minor": 2
}
